{
 "cells": [
  {
   "cell_type": "markdown",
   "id": "96106ed2-d238-4c74-8b24-86ebb979bb11",
   "metadata": {},
   "source": [
    "#### Open Notebook in Colab\n",
    "To open the notebook in Google Colab, click the link below:\n",
    "[Open in Colab](https://colab.research.google.com/github/JunetaeKim/GCSP-HBDA/blob/main/Week2/Lecture1.1.ipynb)"
   ]
  },
  {
   "cell_type": "markdown",
   "id": "8051de5e-875f-49be-96fb-37a4b42bc785",
   "metadata": {},
   "source": [
    "### Introduction to TCGA Data and Preprocessing Guide\n",
    "#### Overview of TCGA: \n",
    "##### The Cancer Genome Atlas is a landmark project that provides comprehensive genomic data for cancer research.\n",
    "#### Significance in Research: \n",
    "##### TCGA's datasets enable the identification of molecular markers crucial for understanding cancer mechanisms and therapies.\n",
    "#### Objectives of Lecture: \n",
    "##### This presentation aims to elucidate TCGA data utilization, addressing preprocessing methods and real-world applications."
   ]
  },
  {
   "cell_type": "code",
   "execution_count": null,
   "id": "46bf79b3-855f-4c8f-8602-d37fa7d4c27f",
   "metadata": {},
   "outputs": [],
   "source": []
  },
  {
   "attachments": {},
   "cell_type": "markdown",
   "id": "d24256b0-415f-4f44-bffd-ea2355ad4b3d",
   "metadata": {},
   "source": [
    "### What is TCGA?\n",
    "#### Historical Context: \n",
    "##### Initiated in 2006, TCGA aimed to revolutionize cancer research through unprecedented genomic data collection and analysis.\n",
    "#### Data Types Offered: \n",
    "##### TCGA provides extensive datasets, including genomics, transcriptomics, epigenomics, and clinical information from diverse cancer types.\n",
    "#### Key Features: \n",
    "##### Notable for its multidimensional data approach, TCGA supports integrative analyses elevating understanding of cancer heterogeneity.y.\r\n"
   ]
  },
  {
   "cell_type": "code",
   "execution_count": null,
   "id": "f4780788-23af-4fea-a055-b0ec1acb3e1b",
   "metadata": {},
   "outputs": [],
   "source": []
  },
  {
   "cell_type": "markdown",
   "id": "6c815b25-6ec4-41c2-8af1-1fbdd20d4e72",
   "metadata": {},
   "source": [
    "### Accessing TCGA Data\n",
    "#### Accessing TCGA Data:\n",
    "##### Researchers can access TCGA data through platforms such as GDC Data Portal and cBioPortal.\n",
    "#### Tools for Data Retrieval: \n",
    "##### GDC provides APIs, while cBioPortal offers user-friendly interfaces to facilitate efficient genomic data access.\n",
    "#### Data Format Overview: \n",
    "##### TCGA supplies data in formats such as BAM, VCF, and TXT, structured to support diverse analyses.\n"
   ]
  }
 ],
 "metadata": {
  "kernelspec": {
   "display_name": "Python 3 (ipykernel)",
   "language": "python",
   "name": "python3"
  },
  "language_info": {
   "codemirror_mode": {
    "name": "ipython",
    "version": 3
   },
   "file_extension": ".py",
   "mimetype": "text/x-python",
   "name": "python",
   "nbconvert_exporter": "python",
   "pygments_lexer": "ipython3",
   "version": "3.9.18"
  }
 },
 "nbformat": 4,
 "nbformat_minor": 5
}
