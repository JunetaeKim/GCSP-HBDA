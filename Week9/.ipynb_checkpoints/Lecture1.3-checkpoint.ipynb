{
 "cells": [
  {
   "cell_type": "markdown",
   "id": "5a673568-1cb2-4e3b-aa8c-bb260fd43751",
   "metadata": {},
   "source": [
    "#### Open Notebook in Colab\n",
    "To open the notebook in Google Colab, click the link below:\n",
    "[Open in Colab](https://colab.research.google.com/github/JunetaeKim/GCSP-HBDA/blob/main/Week2/Lecture1.3.ipynb)"
   ]
  },
  {
   "cell_type": "markdown",
   "id": "1806ba29-eec4-483d-a2fb-a2ab0b7133b2",
   "metadata": {},
   "source": [
    "### Topic: Processing and Merging TCGA Data\n",
    "##### Goals: Processing and merging TCGA (The Cancer Genome Atlas) data. \n",
    "##### We'll practice through each step, from importing necessary libraries to saving the final merged dataset."
   ]
  },
  {
   "attachments": {},
   "cell_type": "markdown",
   "id": "252f199b-ee08-4fb8-8c0b-c296f2e3e403",
   "metadata": {},
   "source": [
    "<img src=\"https://github.com/JunetaeKim/GCSP-HBDA/raw/main/Week2/figure1.3.1.png\" alt=\"Image\" width=\"400\"/>"
   ]
  },
  {
   "cell_type": "code",
   "execution_count": null,
   "id": "6487dd11-ba53-47c9-971c-0d7b8f90f46b",
   "metadata": {},
   "outputs": [],
   "source": []
  },
  {
   "cell_type": "markdown",
   "id": "b10bd4cc-1b33-4ae2-b73c-7ab4fd273e56",
   "metadata": {},
   "source": [
    "#### 1. Importing Libraries 📚\n",
    "##### Objective: Load the necessary Python libraries for data processing."
   ]
  },
  {
   "cell_type": "code",
   "execution_count": 1,
   "id": "0b9896ee-cf11-46ba-adb2-59710fcacd9e",
   "metadata": {},
   "outputs": [],
   "source": [
    "import pandas as pd  # Essential for data manipulation and analysis\n",
    "import numpy as np  # Useful for numerical operations\n",
    "import pickle  # Enables object serialization for saving and loading\n",
    "import matplotlib.pyplot as plt  # Key for data visualization"
   ]
  },
  {
   "cell_type": "markdown",
   "id": "5e0c3e17-fc30-46dd-b5e1-bb5c536d2f08",
   "metadata": {},
   "source": [
    "#### Explanation: \n",
    "##### pandas and numpy are crucial for handling and processing data efficiently.\n",
    "##### pickle is used for loading and saving Python objects.\n",
    "##### matplotlib is used to create visualizations of the data distributions."
   ]
  },
  {
   "cell_type": "code",
   "execution_count": null,
   "id": "76093331-ac59-4144-9303-af6473823a72",
   "metadata": {},
   "outputs": [],
   "source": []
  },
  {
   "cell_type": "markdown",
   "id": "e0b52db1-b61f-4d12-a58b-3dffcf7d80e0",
   "metadata": {},
   "source": [
    "#### 2. Loading Data 💾\n",
    "##### Objective: Load the necessary Python libraries for data processing."
   ]
  },
  {
   "cell_type": "code",
   "execution_count": 2,
   "id": "fa3cd8b7-a2b5-433c-a2bb-db0c9276041c",
   "metadata": {},
   "outputs": [],
   "source": [
    "with open('./SourceData/rsubread/complete_data_merged.pickle', 'rb') as f:\n",
    "    TotalData = pickle.load(f)  # Load the dataset"
   ]
  },
  {
   "cell_type": "markdown",
   "id": "46b6f9ec-cc9a-457a-bc22-0b30fc4b8cf5",
   "metadata": {},
   "source": [
    "#### Explanation:\n",
    "##### pandas and numpy are crucial for handling and processing data efficiently.\n",
    "##### We use the pickle library to load the data from a serialized file.\n",
    "##### The data is stored in a variable called TotalData."
   ]
  },
  {
   "cell_type": "code",
   "execution_count": null,
   "id": "43aaa8e6-b717-48e7-8d6b-d3fa90b36e4c",
   "metadata": {},
   "outputs": [],
   "source": []
  },
  {
   "cell_type": "markdown",
   "id": "cde053e6-5b48-47e7-a073-768e7078dad6",
   "metadata": {},
   "source": [
    "#### 3. Re-stratification and Selection 📊\n",
    "##### Objective: Filter and re-stratify data based on tumor types and races with sufficient counts.\n",
    "##### 3.1 Filter Data Based on Counts"
   ]
  },
  {
   "cell_type": "code",
   "execution_count": 3,
   "id": "89c4aca0-22ab-4277-b12e-532e83e3cd9e",
   "metadata": {},
   "outputs": [],
   "source": [
    "# Get unique tumor types and their counts\n",
    "tum, count = np.unique(TotalData['tumor_type'], return_counts=True)\n",
    "# Select tumor types with counts greater than 200\n",
    "TUMOR_TYPE = tum[count > 200]\n",
    "\n",
    "# Get unique races and their counts\n",
    "race, count = np.unique(TotalData['race'], return_counts=True)\n",
    "# Select races with counts greater than 200\n",
    "RACE_TYPE = race[count > 200]\n",
    "\n",
    "# Filter TotalData to include only selected tumor types and races\n",
    "TotalData = TotalData[TotalData['tumor_type'].isin(TUMOR_TYPE)].copy()\n",
    "TotalData = TotalData[TotalData['race'].isin(RACE_TYPE)].copy()"
   ]
  },
  {
   "cell_type": "markdown",
   "id": "d2690ccd-d2af-4977-8023-6ffb2a7fda54",
   "metadata": {},
   "source": [
    "#### Explanation:\n",
    "##### We filter the dataset to include only tumor types and races with counts greater than 200.\n",
    "##### This ensures that we have sufficient data for each category for meaningful analysis."
   ]
  },
  {
   "cell_type": "code",
   "execution_count": null,
   "id": "c8408603-dc86-4b27-ba7e-cc739eb467c4",
   "metadata": {},
   "outputs": [],
   "source": []
  },
  {
   "cell_type": "markdown",
   "id": "9cf60bdf-c80d-4fd8-8310-2a3750500b3a",
   "metadata": {},
   "source": [
    "##### 3.2 Define Columns"
   ]
  },
  {
   "cell_type": "code",
   "execution_count": 4,
   "id": "d2b76b46-c1a5-4e83-a039-d63612837b36",
   "metadata": {},
   "outputs": [],
   "source": [
    "# Extract all column names\n",
    "Columns = TotalData.columns.tolist()\n",
    "\n",
    "# Define metadata columns\n",
    "MetaCol = ['patient_id', 'time', 'event']\n",
    "# Define demographic binary and continuous columns\n",
    "DemoBinCont = ['gender', 'age']\n",
    "# Define demographic categorical columns\n",
    "DemoCate = ['race', 'tumor_type']\n",
    "# Combine all demographic columns\n",
    "DemoCol = DemoBinCont + DemoCate\n",
    "# Identify gene expression columns by excluding metadata and demographic columns\n",
    "GeneCol = list(set(Columns) - set(MetaCol) - set(DemoCol))\n",
    "GeneCol.sort()"
   ]
  },
  {
   "cell_type": "markdown",
   "id": "fd0cb0fd-4977-4715-85ae-99077a5dca7b",
   "metadata": {},
   "source": [
    "#### Explanation:\n",
    "##### Columns are classified into metadata, demographic, and gene expression columns for easier handling and processing."
   ]
  },
  {
   "cell_type": "code",
   "execution_count": null,
   "id": "529d055d-31ff-4c32-97a7-42a4c5c08541",
   "metadata": {},
   "outputs": [],
   "source": []
  },
  {
   "cell_type": "markdown",
   "id": "37dfe5dd-7c53-40e6-9222-3aeba6cce973",
   "metadata": {},
   "source": [
    "##### 3.3 Remove Low Variance Genes"
   ]
  },
  {
   "cell_type": "code",
   "execution_count": 5,
   "id": "f69528dd-8cf9-4010-9102-8cde9fc426ca",
   "metadata": {},
   "outputs": [
    {
     "name": "stdout",
     "output_type": "stream",
     "text": [
      "1169\n"
     ]
    }
   ],
   "source": [
    "# Calculate variance for each gene expression column\n",
    "RemCheckVar = TotalData.loc[:, GeneCol].var()\n",
    "\n",
    "# Identify genes with variance below the 95th percentile\n",
    "RemList = RemCheckVar[RemCheckVar < RemCheckVar.quantile(0.95)].index.to_list()\n",
    "# Remove low variance genes from the dataset\n",
    "TotalData = TotalData.drop(columns=RemList)\n",
    "\n",
    "# Update GeneCol to reflect removed genes\n",
    "Columns = TotalData.columns.tolist()\n",
    "GeneCol = list(set(Columns) - set(MetaCol) - set(DemoCol))\n",
    "GeneCol.sort()\n",
    "print(len(RemCheckVar) - len(RemList))  # Output number of removed genes"
   ]
  },
  {
   "cell_type": "markdown",
   "id": "fb6776cd-ab62-4b7c-bb2c-465d934301fe",
   "metadata": {},
   "source": [
    "#### Explanation:\n",
    "##### Genes with low variance (below the 95th percentile) are removed to reduce noise and computational load.\n",
    "##### This step helps in focusing on more significant gene expressions."
   ]
  },
  {
   "cell_type": "code",
   "execution_count": null,
   "id": "e7926003-23f8-446d-a223-7c1118a45c02",
   "metadata": {},
   "outputs": [],
   "source": []
  },
  {
   "cell_type": "markdown",
   "id": "a4405a3a-1d5c-4c25-8c6e-dee59517f185",
   "metadata": {},
   "source": [
    "##### 3.4 Plot Unique Value Distributions"
   ]
  },
  {
   "cell_type": "code",
   "execution_count": 6,
   "id": "3c3c169b-6ba3-46af-a4e3-81a383fc8a1d",
   "metadata": {},
   "outputs": [
    {
     "data": {
      "image/png": "[encoded data removed]",
      "text/plain": [
       "<Figure size 1200x500 with 3 Axes>"
      ]
     },
     "metadata": {},
     "output_type": "display_data"
    }
   ],
   "source": [
    "def plot_unique_value_distribution(data, column_name, ax, title, x_label, x_tick_labels=None, rotation=0):\n",
    "    \"\"\"\n",
    "    Plots the distribution of unique values for a given column.\n",
    "    \n",
    "    Parameters:\n",
    "    - data: The dataset.\n",
    "    - column_name: The column to plot.\n",
    "    - ax: The matplotlib axes to plot on.\n",
    "    - title: The plot title.\n",
    "    - x_label: The x-axis label.\n",
    "    - x_tick_labels: Custom labels for the x-ticks.\n",
    "    - rotation: Rotation angle for x-tick labels.\n",
    "    \"\"\"\n",
    "    unique_values, counts = np.unique(data[column_name], return_counts=True)\n",
    "    ax.bar(unique_values, counts)\n",
    "    ax.set_title(title)\n",
    "    ax.set_xlabel(x_label)\n",
    "    ax.set_ylabel('Counts')\n",
    "    if x_tick_labels:\n",
    "        ax.set_xticks(unique_values)\n",
    "        ax.set_xticklabels(x_tick_labels)\n",
    "    ax.tick_params(axis='x', rotation=rotation)\n",
    "\n",
    "# Create subplots to display distributions\n",
    "fig, axs = plt.subplots(1, 3, figsize=(12, 5))\n",
    "\n",
    "# Plot race distribution\n",
    "plot_unique_value_distribution(TotalData, 'race', axs[0], 'Race Distribution', 'Race', rotation=45)\n",
    "# Plot gender distribution\n",
    "plot_unique_value_distribution(TotalData, 'gender', axs[1], 'Gender Distribution', 'Gender', ['Male', 'Female'])\n",
    "# Plot tumor type distribution\n",
    "plot_unique_value_distribution(TotalData, 'tumor_type', axs[2], 'Tumor Type Distribution', 'Tumor Type', rotation=90)\n",
    "\n",
    "plt.tight_layout()  # Adjust layout to prevent overlap\n",
    "plt.show()  # Display the plots"
   ]
  },
  {
   "cell_type": "markdown",
   "id": "5c2a3ead-2ac6-4c78-a26f-f41e55daef8e",
   "metadata": {},
   "source": [
    "#### Explanation:\n",
    "##### A function is defined to plot the distribution of unique values for specified columns.\n",
    "#####  Subplots are created to visualize the distributions of race, gender, and tumor types."
   ]
  },
  {
   "cell_type": "code",
   "execution_count": null,
   "id": "1f791b7a-9e35-412e-8650-c9ac65a61d41",
   "metadata": {},
   "outputs": [],
   "source": []
  },
  {
   "cell_type": "markdown",
   "id": "0d72b1bb-314e-4450-a796-5387e527f011",
   "metadata": {},
   "source": [
    "#### 4. Log Transformation and Normalization 🔄\n",
    "##### Objective: Apply log transformation and normalize data for analysis.\n",
    "##### 4.1 Log Transformation"
   ]
  },
  {
   "cell_type": "code",
   "execution_count": 7,
   "id": "20b2ff54-063c-4dd3-b120-8498109ac092",
   "metadata": {},
   "outputs": [],
   "source": [
    "# Apply log2 transformation to gene expression data\n",
    "LogTotalData = pd.DataFrame(np.log2(TotalData.loc[:, GeneCol].values + 1), columns=TotalData.loc[:, GeneCol].columns)\n",
    "# Combine transformed gene expression data with metadata and demographic data\n",
    "LogTotalData = pd.concat([TotalData.loc[:, MetaCol + DemoCol].reset_index(drop=True), LogTotalData], axis=1)\n",
    "# Ensure correct data types for 'event' and 'gender' columns\n",
    "LogTotalData['event'] = LogTotalData['event'].astype(np.float32)\n",
    "LogTotalData['gender'] = LogTotalData['gender'].astype(np.float32)"
   ]
  },
  {
   "cell_type": "markdown",
   "id": "2e98899e-f48d-46e0-9bc5-6e46a67a7b8c",
   "metadata": {},
   "source": [
    "#### Explanation:\n",
    "##### Log2 transformation is applied to gene expression data to stabilize variance and make data more normal distribution-like.\n",
    "##### The transformed gene expression data is combined with metadata and demographic data."
   ]
  },
  {
   "cell_type": "code",
   "execution_count": null,
   "id": "3cd1a233-2f9e-4630-8f7c-9f08c325fcf5",
   "metadata": {},
   "outputs": [],
   "source": []
  },
  {
   "cell_type": "markdown",
   "id": "3ad4ba03-ab37-4f56-bfcf-b03d29801c25",
   "metadata": {},
   "source": [
    "##### 4.2 Normalization"
   ]
  },
  {
   "cell_type": "code",
   "execution_count": 8,
   "id": "e72776e8-058f-4621-92ad-553676e48288",
   "metadata": {},
   "outputs": [],
   "source": [
    "# Copy the log-transformed data for normalization\n",
    "AnalData = LogTotalData.copy()\n",
    "# Calculate minimum values for normalization\n",
    "Min = AnalData.loc[:, GeneCol + DemoBinCont].min()\n",
    "# Calculate maximum values for normalization\n",
    "Max = AnalData.loc[:, GeneCol + DemoBinCont].max()\n",
    "# Apply min-max normalization to scale data between 0 and 1\n",
    "AnalData.loc[:, GeneCol + DemoBinCont] = (AnalData.loc[:, GeneCol + DemoBinCont] - Min) / (Max - Min)"
   ]
  },
  {
   "cell_type": "markdown",
   "id": "3d8f9353-6a54-40e4-b2f6-2a8e4f572022",
   "metadata": {},
   "source": [
    "#### Explanation:\n",
    "##### Min-max normalization is applied to gene expression and continuous demographic data to scale values between 0 and 1.\n",
    "##### This step ensures that all data are on a comparable scale."
   ]
  },
  {
   "cell_type": "code",
   "execution_count": null,
   "id": "ff6ce858-ddf8-4d70-b9b3-43f90b25b754",
   "metadata": {},
   "outputs": [],
   "source": []
  },
  {
   "cell_type": "markdown",
   "id": "3b6bc319-d57a-4c8b-abad-5cb69d7b06dc",
   "metadata": {},
   "source": [
    "#### 5. Saving Processed Data 💾\n",
    "##### Objective: Save the processed and normalized data for further analysis."
   ]
  },
  {
   "cell_type": "code",
   "execution_count": 9,
   "id": "d5f2091c-ca6c-49cb-88d8-64d5a159f224",
   "metadata": {},
   "outputs": [],
   "source": [
    "#AnalData.to_csv('./ProcessedData/AnalData.csv', index=False)  # Save the data to a CSV file"
   ]
  },
  {
   "cell_type": "markdown",
   "id": "32e3ad23-a9c6-425f-87e2-9e445be41458",
   "metadata": {},
   "source": [
    "#### Explanation:\n",
    "##### The processed and normalized data is saved to a CSV file, making it ready for subsequent analysis and modeling."
   ]
  },
  {
   "cell_type": "code",
   "execution_count": null,
   "id": "73a0f5bb-23b0-4ae9-bfb5-2ff5cc99ceb5",
   "metadata": {},
   "outputs": [],
   "source": []
  },
  {
   "cell_type": "markdown",
   "id": "217a7c98-f38d-48a3-bb9a-6d533c2625f8",
   "metadata": {},
   "source": [
    "#### Summary\n",
    "##### Importing Libraries: Load necessary Python libraries for data manipulation, numerical operations, serialization, and visualization.\n",
    "##### Loading Data: Load the dataset from a pickle file.\n",
    "##### Re-stratification and Selection: Filter data to include only relevant tumor types and races, remove low variance genes, and visualize data distributions.\n",
    "##### Log Transformation and Normalization: Apply log transformation to gene expression data and normalize values for analysis.\n",
    "##### Saving Processed Data: Save the cleaned and processed data to a CSV file for further use."
   ]
  }
 ],
 "metadata": {
  "kernelspec": {
   "display_name": "Python 3 (ipykernel)",
   "language": "python",
   "name": "python3"
  },
  "language_info": {
   "codemirror_mode": {
    "name": "ipython",
    "version": 3
   },
   "file_extension": ".py",
   "mimetype": "text/x-python",
   "name": "python",
   "nbconvert_exporter": "python",
   "pygments_lexer": "ipython3",
   "version": "3.9.18"
  }
 },
 "nbformat": 4,
 "nbformat_minor": 5
}
