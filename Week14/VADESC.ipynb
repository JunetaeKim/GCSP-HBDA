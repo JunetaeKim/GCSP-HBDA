{
 "cells": [
  {
   "cell_type": "markdown",
   "metadata": {},
   "source": [
    "https://colab.research.google.com/github/JunetaeKim/GCSP-HBDA/blob/main/Week14/VADESC.ipynb"
   ]
  },
  {
   "cell_type": "code",
   "execution_count": 1,
   "metadata": {},
   "outputs": [],
   "source": [
    "import sys\n",
    "import os\n",
    "import random\n",
    "import pickle\n",
    "import requests\n",
    "import numpy as np\n",
    "import pandas as pd\n",
    "import matplotlib.pyplot as plt\n",
    "import tensorflow as tf\n",
    "tf.config.set_visible_devices([], 'GPU')\n",
    "from tensorflow.keras.callbacks import ModelCheckpoint\n",
    "\n",
    "sys.path.append(os.path.abspath(\"VADESC\"))\n",
    "\n",
    "from models.losses import Losses\n",
    "from models.model import GMM_Survival\n",
    "from utils.eval_utils import cindex_metric \n",
    "from utils.data_utils import get_gen\n",
    "from lifelines import KaplanMeierFitter\n",
    "from lifelines.utils import concordance_index\n",
    "\n",
    "\n",
    "seed_num = 7\n",
    "random.seed(seed_num)\n",
    "np.random.seed(seed_num)\n",
    "tf.random.set_seed(seed_num)"
   ]
  },
  {
   "cell_type": "code",
   "execution_count": null,
   "metadata": {},
   "outputs": [],
   "source": []
  },
  {
   "cell_type": "markdown",
   "metadata": {},
   "source": [
    "### Load sample dataset "
   ]
  },
  {
   "cell_type": "code",
   "execution_count": 2,
   "metadata": {},
   "outputs": [],
   "source": [
    "def load_npy_from_url(url):\n",
    "    \"\"\"\n",
    "    Downloads a .npy file from a given URL and loads it as a NumPy array.\n",
    "\n",
    "    Parameters:\n",
    "        url (str): The URL of the .npy file (must be a Raw URL for GitHub files).\n",
    "\n",
    "    Returns:\n",
    "        np.ndarray: The loaded NumPy array.\n",
    "    \"\"\"\n",
    "    try:\n",
    "        # Download the file from the URL\n",
    "        response = requests.get(url)\n",
    "        response.raise_for_status()  # Raise HTTPError for bad responses (4xx or 5xx)\n",
    "\n",
    "        # Save the content to a temporary file\n",
    "        with open('temp.npy', 'wb') as temp_file:\n",
    "            temp_file.write(response.content)\n",
    "\n",
    "        # Load the NumPy array from the temporary file\n",
    "        data = np.load('temp.npy', allow_pickle=True)\n",
    "        return data\n",
    "\n",
    "    except requests.exceptions.RequestException as e:\n",
    "        print(f\"Error fetching the file: {e}\")\n",
    "        return None\n",
    "    except Exception as e:\n",
    "        print(f\"Error loading the .npy file: {e}\")\n",
    "        return None"
   ]
  },
  {
   "cell_type": "code",
   "execution_count": 3,
   "metadata": {},
   "outputs": [],
   "source": [
    "url_X_train = 'https://raw.githubusercontent.com/JunetaeKim/GCSP-HBDA/main/Week11/Data/X_train.npy'\n",
    "url_X_val = 'https://raw.githubusercontent.com/JunetaeKim/GCSP-HBDA/main/Week11/Data/X_val.npy'\n",
    "url_y_train = 'https://raw.githubusercontent.com/JunetaeKim/GCSP-HBDA/main/Week11/Data/y_train.npy'\n",
    "url_y_val = 'https://raw.githubusercontent.com/JunetaeKim/GCSP-HBDA/main/Week11/Data/y_val.npy'\n",
    "\n",
    "X_train = load_npy_from_url(url_X_train)\n",
    "X_val = load_npy_from_url(url_X_val)\n",
    "y_train = load_npy_from_url(url_y_train)[:, :2]\n",
    "y_val = load_npy_from_url(url_y_val)[:, :2]\n",
    "\n",
    "# This is an arbitrary method to facilitate the research setup and is not a standard approach. Please keep this in mind.\n",
    "y_train[:, 0]= y_train[:, 0] * 200\n",
    "y_val[:, 0]= y_val[:, 0] * 200\n",
    "\n",
    "# GitHub Raw URL\n",
    "response = requests.get('https://raw.githubusercontent.com/JunetaeKim/GCSP-HBDA/main/Week11/Data/x_varlist.pkl')\n",
    "x_varlist = pickle.loads(response.content)\n",
    "\n",
    "\n",
    "X_train_DF = pd.DataFrame(X_train, columns=x_varlist)\n",
    "X_val_DF = pd.DataFrame(X_val, columns=x_varlist)\n",
    "Y_train_DF = pd.DataFrame(y_train, columns=['time','event'])\n",
    "Y_val_DF = pd.DataFrame(y_val, columns=['time','event'])"
   ]
  },
  {
   "cell_type": "markdown",
   "metadata": {},
   "source": [
    "### Parameter setting for the experiment"
   ]
  },
  {
   "cell_type": "code",
   "execution_count": 5,
   "metadata": {},
   "outputs": [],
   "source": [
    "configs = {'global_param': {'batch_size': 1400,\n",
    "  'data_type': 'TCGA',\n",
    "  'data_path': '../../Data/TCGA/ProcessedData/AnalData.csv',\n",
    "  'weight_save_path': './ModelSave/',\n",
    "  'result_tracking_path': './Tracking/',\n",
    "  'seed': 7},\n",
    " 'training': {'eval_frequency': 200,\n",
    "  'n_epochs': 3000,\n",
    "  'inp_shape': 1173,\n",
    "  'latent_dim': 16,\n",
    "  'activation': 'sigmoid',\n",
    "  'monte_carlo': 1,\n",
    "  'num_clusters': 8,\n",
    "  'learn_prior': True,\n",
    "  'weibull_shape': 1,\n",
    "  'survival': True,\n",
    "  'sample_surv': True},\n",
    " 'eval_param': {'num_coef': 30}}"
   ]
  },
  {
   "cell_type": "code",
   "execution_count": null,
   "metadata": {},
   "outputs": [],
   "source": []
  },
  {
   "cell_type": "code",
   "execution_count": null,
   "metadata": {},
   "outputs": [],
   "source": []
  },
  {
   "cell_type": "markdown",
   "metadata": {},
   "source": [
    "### VaDeSC Model"
   ]
  },
  {
   "cell_type": "code",
   "execution_count": 6,
   "metadata": {
    "scrolled": true
   },
   "outputs": [
    {
     "data": {
      "text/plain": [
       "((4173, 1173), (4173, 2), (1391, 1173), (1391, 2))"
      ]
     },
     "execution_count": 6,
     "metadata": {},
     "output_type": "execute_result"
    }
   ],
   "source": [
    "# Define reconstruction loss function\n",
    "losses = Losses(configs)\n",
    "rec_loss = losses.loss_reconstruction_mse\n",
    "\n",
    "# Construct the model & optimizer\n",
    "model = GMM_Survival(**configs['training'])\n",
    "optimizer = tf.keras.optimizers.Adam(learning_rate=0.001, decay=0.00001)\n",
    "model.compile(optimizer, loss={\"output_1\": rec_loss}, metrics={ \"output_5\": cindex_metric})\n",
    "# Use survival times during training\n",
    "tf.keras.backend.set_value(model.use_t, np.array([1.0]))\n",
    "\n",
    "# Data generators\n",
    "gen_train = get_gen(X_train, y_train, configs, configs['global_param']['batch_size'])\n",
    "gen_test = get_gen(X_val, y_val, configs, y_val.shape[0], validation=True)\n",
    "gen_train.X.shape, gen_train.y.shape, gen_test.X.shape, gen_test.y.shape"
   ]
  },
  {
   "cell_type": "code",
   "execution_count": null,
   "metadata": {},
   "outputs": [],
   "source": []
  },
  {
   "cell_type": "code",
   "execution_count": 7,
   "metadata": {},
   "outputs": [],
   "source": [
    "# Set up model checkpoint\n",
    "checkpoint = ModelCheckpoint(\n",
    "    filepath='./Save/VADESC.h5',  # File path to save the model\n",
    "    monitor='val_loss',                             # Metric to monitor (validation loss)\n",
    "    save_best_only=True,                            # Save only the best model based on the monitored metric\n",
    "    save_weights_only=True,                        # Save the entire model (set True to save only weights)\n",
    "    mode='min',                                     # Save when 'val_loss' is minimized\n",
    "    verbose=1                                       # Print messages when the model is saved\n",
    ")\n"
   ]
  },
  {
   "cell_type": "code",
   "execution_count": null,
   "metadata": {},
   "outputs": [],
   "source": []
  },
  {
   "cell_type": "markdown",
   "metadata": {},
   "source": [
    "### Training & Evaluation"
   ]
  },
  {
   "cell_type": "code",
   "execution_count": 8,
   "metadata": {
    "scrolled": true
   },
   "outputs": [
    {
     "name": "stdout",
     "output_type": "stream",
     "text": [
      "Epoch 1/3000\n",
      "WARNING:tensorflow:From C:\\Users\\User\\anaconda3\\envs\\ai\\lib\\site-packages\\tensorflow_probability\\python\\distributions\\distribution.py:342: calling MultivariateNormalDiag.__init__ (from tensorflow_probability.python.distributions.mvn_diag) with scale_identity_multiplier is deprecated and will be removed after 2020-01-01.\n",
      "Instructions for updating:\n",
      "`scale_identity_multiplier` is deprecated; please combine it into `scale_diag` directly instead.\n",
      "\n",
      "Epoch 1: val_loss improved from inf to 71.81956, saving model to ./Save\\VADESC.h5\n",
      "2/2 - 6s - loss: 82.1477 - output_1_loss: 56.1244 - output_5_cindex_metric: 0.6526 - loss_clustering: 28.9477 - loss_prior: 0.2079 - loss_variational_1: -9.5763e+00 - loss_variational_2: -7.3945e-01 - loss_survival: 7.1834 - val_loss: 71.8196 - val_output_1_loss: 54.9356 - val_output_5_cindex_metric: 0.6858 - val_loss_clustering: 15.4355 - val_loss_prior: 0.2078 - val_loss_variational_1: -8.6820e+00 - val_loss_variational_2: -1.0977e+00 - val_loss_survival: 11.0202 - 6s/epoch - 3s/step\n",
      "Epoch 2/3000\n",
      "\n",
      "Epoch 2: val_loss improved from 71.81956 to 46.62955, saving model to ./Save\\VADESC.h5\n",
      "2/2 - 0s - loss: 67.9771 - output_1_loss: 45.3202 - output_5_cindex_metric: 0.6292 - loss_clustering: 25.3541 - loss_prior: 0.2079 - loss_variational_1: -9.6306e+00 - loss_variational_2: -7.0127e-01 - loss_survival: 7.4268 - val_loss: 46.6295 - val_output_1_loss: 36.6645 - val_output_5_cindex_metric: 0.4362 - val_loss_clustering: 17.5434 - val_loss_prior: 0.2076 - val_loss_variational_1: -1.2453e+01 - val_loss_variational_2: -7.4512e-01 - val_loss_survival: 5.4116 - 229ms/epoch - 115ms/step\n",
      "Epoch 3/3000\n",
      "\n",
      "Epoch 3: val_loss did not improve from 46.62955\n",
      "2/2 - 0s - loss: 59.1200 - output_1_loss: 36.0491 - output_5_cindex_metric: 0.6096 - loss_clustering: 28.5890 - loss_prior: 0.2078 - loss_variational_1: -1.1149e+01 - loss_variational_2: -6.7787e-01 - loss_survival: 6.1005 - val_loss: 59.5256 - val_output_1_loss: 43.6663 - val_output_5_cindex_metric: 0.4446 - val_loss_clustering: 15.0981 - val_loss_prior: 0.2075 - val_loss_variational_1: -8.2338e+00 - val_loss_variational_2: -8.0545e-01 - val_loss_survival: 9.5930 - 206ms/epoch - 103ms/step\n",
      "Epoch 4/3000\n",
      "\n",
      "Epoch 4: val_loss did not improve from 46.62955\n",
      "2/2 - 0s - loss: 51.9130 - output_1_loss: 29.3024 - output_5_cindex_metric: 0.6338 - loss_clustering: 23.1720 - loss_prior: 0.2077 - loss_variational_1: -7.9648e+00 - loss_variational_2: -7.5288e-01 - loss_survival: 7.9486 - val_loss: 52.8507 - val_output_1_loss: 38.1079 - val_output_5_cindex_metric: 0.4650 - val_loss_clustering: 15.4749 - val_loss_prior: 0.2073 - val_loss_variational_1: -7.6507e+00 - val_loss_variational_2: -7.0432e-01 - val_loss_survival: 7.4157 - 207ms/epoch - 104ms/step\n",
      "Epoch 5/3000\n",
      "\n",
      "Epoch 5: val_loss improved from 46.62955 to 46.22268, saving model to ./Save\\VADESC.h5\n",
      "2/2 - 0s - loss: 49.9856 - output_1_loss: 27.9902 - output_5_cindex_metric: 0.6197 - loss_clustering: 23.6684 - loss_prior: 0.2074 - loss_variational_1: -7.7018e+00 - loss_variational_2: -7.4713e-01 - loss_survival: 6.5684 - val_loss: 46.2227 - val_output_1_loss: 32.2734 - val_output_5_cindex_metric: 0.4766 - val_loss_clustering: 16.9317 - val_loss_prior: 0.2070 - val_loss_variational_1: -7.5926e+00 - val_loss_variational_2: -6.1435e-01 - val_loss_survival: 5.0176 - 229ms/epoch - 114ms/step\n",
      "Epoch 6/3000\n",
      "\n",
      "Epoch 6: val_loss did not improve from 46.22268\n",
      "2/2 - 0s - loss: 49.3291 - output_1_loss: 27.1521 - output_5_cindex_metric: 0.6174 - loss_clustering: 24.3657 - loss_prior: 0.2072 - loss_variational_1: -7.4229e+00 - loss_variational_2: -6.9185e-01 - loss_survival: 5.7188 - val_loss: 49.8175 - val_output_1_loss: 35.6684 - val_output_5_cindex_metric: 0.4449 - val_loss_clustering: 16.2211 - val_loss_prior: 0.2068 - val_loss_variational_1: -7.2003e+00 - val_loss_variational_2: -5.5740e-01 - val_loss_survival: 5.4789 - 211ms/epoch - 105ms/step\n",
      "Epoch 7/3000\n",
      "\n",
      "Epoch 7: val_loss did not improve from 46.22268\n",
      "2/2 - 0s - loss: 48.6920 - output_1_loss: 26.8009 - output_5_cindex_metric: 0.6127 - loss_clustering: 23.6630 - loss_prior: 0.2070 - loss_variational_1: -7.3447e+00 - loss_variational_2: -6.7912e-01 - loss_survival: 6.0449 - val_loss: 48.0509 - val_output_1_loss: 34.7732 - val_output_5_cindex_metric: 0.4453 - val_loss_clustering: 16.0510 - val_loss_prior: 0.2065 - val_loss_variational_1: -8.0019e+00 - val_loss_variational_2: -5.0806e-01 - val_loss_survival: 5.5301 - 215ms/epoch - 107ms/step\n",
      "Epoch 8/3000\n",
      "\n",
      "Epoch 8: val_loss did not improve from 46.22268\n",
      "2/2 - 0s - loss: 48.3295 - output_1_loss: 26.6444 - output_5_cindex_metric: 0.6034 - loss_clustering: 24.6491 - loss_prior: 0.2068 - loss_variational_1: -8.2808e+00 - loss_variational_2: -6.2879e-01 - loss_survival: 5.7387 - val_loss: 46.3367 - val_output_1_loss: 33.8775 - val_output_5_cindex_metric: 0.4485 - val_loss_clustering: 16.2637 - val_loss_prior: 0.2062 - val_loss_variational_1: -8.7360e+00 - val_loss_variational_2: -5.0993e-01 - val_loss_survival: 5.2352 - 214ms/epoch - 107ms/step\n",
      "Epoch 9/3000\n",
      "\n",
      "Epoch 9: val_loss did not improve from 46.22268\n",
      "2/2 - 0s - loss: 48.1164 - output_1_loss: 26.4028 - output_5_cindex_metric: 0.6128 - loss_clustering: 25.1270 - loss_prior: 0.2067 - loss_variational_1: -8.7012e+00 - loss_variational_2: -6.5593e-01 - loss_survival: 5.7370 - val_loss: 49.0695 - val_output_1_loss: 36.2291 - val_output_5_cindex_metric: 0.4637 - val_loss_clustering: 15.9932 - val_loss_prior: 0.2060 - val_loss_variational_1: -8.4680e+00 - val_loss_variational_2: -5.8445e-01 - val_loss_survival: 5.6937 - 209ms/epoch - 105ms/step\n",
      "Epoch 10/3000\n",
      "\n",
      "Epoch 10: val_loss did not improve from 46.22268\n",
      "2/2 - 0s - loss: 47.5937 - output_1_loss: 26.1084 - output_5_cindex_metric: 0.6004 - loss_clustering: 24.4662 - loss_prior: 0.2066 - loss_variational_1: -8.4406e+00 - loss_variational_2: -6.9830e-01 - loss_survival: 5.9514 - val_loss: 48.7802 - val_output_1_loss: 35.9845 - val_output_5_cindex_metric: 0.4657 - val_loss_clustering: 16.0089 - val_loss_prior: 0.2058 - val_loss_variational_1: -8.5265e+00 - val_loss_variational_2: -6.2334e-01 - val_loss_survival: 5.7308 - 206ms/epoch - 103ms/step\n",
      "Epoch 11/3000\n"
     ]
    },
    {
     "name": "stderr",
     "output_type": "stream",
     "text": [
      "\n",
      "KeyboardInterrupt\n",
      "\n"
     ]
    }
   ],
   "source": [
    "# Fit the model\n",
    "history = model.fit(gen_train, validation_data=gen_test, epochs=configs['training']['n_epochs'], callbacks=[checkpoint], verbose=2)\n",
    "#history = model.fit(gen_train, validation_data=gen_test, epochs=100, callbacks=[checkpoint], verbose=2)"
   ]
  },
  {
   "cell_type": "code",
   "execution_count": 10,
   "metadata": {},
   "outputs": [],
   "source": [
    "model((gen_test.X[:1], gen_test.y[:1]))\n",
    "model.load_weights('./Save/VADESC.h5')"
   ]
  },
  {
   "cell_type": "code",
   "execution_count": 11,
   "metadata": {},
   "outputs": [
    {
     "name": "stdout",
     "output_type": "stream",
     "text": [
      "17/17 [==============================] - 1s 11ms/step\n",
      "6/6 [==============================] - 0s 10ms/step\n"
     ]
    },
    {
     "data": {
      "text/plain": [
       "((array([2], dtype=int64), array([4173], dtype=int64)),\n",
       " (array([2], dtype=int64), array([1391], dtype=int64)))"
      ]
     },
     "execution_count": 11,
     "metadata": {},
     "output_type": "execute_result"
    }
   ],
   "source": [
    "# Evaluate the model \n",
    "\n",
    "# Don't use survival times during testing\n",
    "tf.keras.backend.set_value(model.use_t, np.array([0.0]))\n",
    "\n",
    "# Don't use MC samples to predict survival at evaluation\n",
    "model.sample_surv = False\n",
    "\n",
    "# Hard cluster assignments\n",
    "rec, z_sample, p_z_c, p_c_z, risk_scores, lambdas = model.predict((X_train, y_train), batch_size=256)\n",
    "val_labels_v = np.argmax(p_c_z, axis=-1)\n",
    "rec, z_sample, p_z_c, p_c_z, risk_scores, lambdas = model.predict((X_val, y_val), batch_size=256)\n",
    "test_labels_v = np.argmax(p_c_z, axis=-1)\n",
    "\n",
    "np.unique(val_labels_v, return_counts=True), np.unique(test_labels_v, return_counts=True)"
   ]
  },
  {
   "cell_type": "code",
   "execution_count": 12,
   "metadata": {},
   "outputs": [],
   "source": [
    "def plot_survival_function(time, event, labels_v, labels_w=None, show_live=True, timeline=np.arange(0, 4000, 100), epoch=None, save=False):\n",
    "    \"\"\"\n",
    "    Plots the survival function for different clusters and returns the plot as base64.\n",
    "    \n",
    "    Args:\n",
    "        time (tensor): Time tensor (batch_size).\n",
    "        event (tensor): Event tensor (batch_size).\n",
    "        labels_v (tensor): Cluster labels for V (batch_size).\n",
    "        labels_w (tensor, optional): Cluster labels for W (batch_size). Default is None.\n",
    "        show_live (bool): Whether to show the plot live.\n",
    "        timeline (array): Timeline for the survival plot.\n",
    "        epoch (int, optional): Current epoch number.\n",
    "        save (bool): Whether to save the plot.\n",
    "    \"\"\"\n",
    "    CB_COLOR_CYCLE = [\n",
    "        '#377eb8', '#ff7f00', '#4daf4a', '#f781bf', '#a65628', '#984ea3', '#999999', '#e41a1c', '#dede00',\n",
    "        '#ff0000', '#ff8000', '#ffff00', '#80ff00', '#00ff00', '#00ff80', '#00ffff', '#0080ff', '#0000ff',\n",
    "        '#8000ff', '#ff00ff', '#ff0080', '#ffb3b3', '#b3ffb3', '#b3b3ff', '#ff66b3', '#66ffb3', '#b366ff',\n",
    "        '#ff6666', '#66ff66', '#6666ff', '#ffcc66', '#66ffcc', '#cc66ff'\n",
    "    ]\n",
    "\n",
    "    # Create subplots based on the availability of labels_w\n",
    "    if labels_w is not None:\n",
    "        fig, axs = plt.subplots(1, 2, figsize=(8, 3))\n",
    "    else:\n",
    "        fig, ax = plt.subplots(1, 1, figsize=(5, 4))\n",
    "        axs = [ax]  # To unify the handling of axs as a list\n",
    "    \n",
    "    # Plot for labels_v\n",
    "    for lab in np.unique(labels_v):\n",
    "        kmf = KaplanMeierFitter()\n",
    "        kmf.fit(time[labels_v == lab], event[labels_v == lab], label=f\"Cluster V {int(lab + 1)}\", timeline=timeline)\n",
    "        kmf.plot(ax=axs[0], ci_show=True, color=CB_COLOR_CYCLE[int(lab)])\n",
    "    axs[0].set_title('Survival Function for Labels V')\n",
    "    axs[0].set_xlabel('Time')\n",
    "    axs[0].set_ylabel('Survival Probability')\n",
    "\n",
    "    # Plot for labels_w (if available)\n",
    "    if labels_w is not None:\n",
    "        for lab in np.unique(labels_w):\n",
    "            kmf = KaplanMeierFitter()\n",
    "            kmf.fit(time[labels_w == lab], event[labels_w == lab], label=f\"Cluster W {int(lab + 1)}\", timeline=timeline)\n",
    "            kmf.plot(ax=axs[1], ci_show=True, color=CB_COLOR_CYCLE[int(lab)])\n",
    "        axs[1].set_title('Survival Function for Labels W')\n",
    "        axs[1].set_xlabel('Time')\n",
    "        axs[1].set_ylabel('Survival Probability')\n",
    "    \n",
    "    # Save or show the plot\n",
    "    if save:\n",
    "        plt.tight_layout()\n",
    "        buf = BytesIO()\n",
    "        plt.savefig(buf, format='png')\n",
    "        buf.seek(0)\n",
    "        img_str = base64.b64encode(buf.read()).decode('utf-8')\n",
    "        if show_live:\n",
    "            plt.show()\n",
    "        plt.close(fig)\n",
    "        return f'data:image/png;base64,{img_str}'\n",
    "    else:\n",
    "        plt.tight_layout()\n",
    "        plt.show()\n",
    "        "
   ]
  },
  {
   "cell_type": "code",
   "execution_count": 13,
   "metadata": {},
   "outputs": [
    {
     "data": {
      "image/png": "[encoded data removed]",
      "text/plain": [
       "<Figure size 500x400 with 1 Axes>"
      ]
     },
     "metadata": {},
     "output_type": "display_data"
    }
   ],
   "source": [
    "%matplotlib inline\n",
    "plot_survival_function(y_val[:, 0], y_val[:, 1], test_labels_v, epoch=None, show_live=True, save=False)"
   ]
  },
  {
   "cell_type": "code",
   "execution_count": null,
   "metadata": {},
   "outputs": [],
   "source": []
  },
  {
   "cell_type": "code",
   "execution_count": null,
   "metadata": {},
   "outputs": [],
   "source": []
  },
  {
   "cell_type": "markdown",
   "metadata": {
    "scrolled": true
   },
   "source": [
    "#### From deep learing "
   ]
  },
  {
   "cell_type": "code",
   "execution_count": 14,
   "metadata": {},
   "outputs": [
    {
     "name": "stdout",
     "output_type": "stream",
     "text": [
      "17/17 [==============================] - 0s 10ms/step\n"
     ]
    },
    {
     "data": {
      "text/plain": [
       "0.49118497423969043"
      ]
     },
     "execution_count": 14,
     "metadata": {},
     "output_type": "execute_result"
    }
   ],
   "source": [
    "# concordance_index(event_times=y_test[:, 0], event_observed=y_test[:, 1], predicted_scores=risk_scores)\n",
    "\n",
    "rec, z_sample, p_z_c, p_c_z, risk_scores, lambdas = model.predict((X_train, y_train), batch_size=256)\n",
    "concordance_index(event_times=y_train[:, 0], event_observed=y_train[:, 1], predicted_scores=risk_scores)"
   ]
  },
  {
   "cell_type": "code",
   "execution_count": null,
   "metadata": {},
   "outputs": [],
   "source": []
  },
  {
   "cell_type": "code",
   "execution_count": null,
   "metadata": {},
   "outputs": [],
   "source": []
  }
 ],
 "metadata": {
  "kernelspec": {
   "display_name": "Python 3 (ipykernel)",
   "language": "python",
   "name": "python3"
  },
  "language_info": {
   "codemirror_mode": {
    "name": "ipython",
    "version": 3
   },
   "file_extension": ".py",
   "mimetype": "text/x-python",
   "name": "python",
   "nbconvert_exporter": "python",
   "pygments_lexer": "ipython3",
   "version": "3.9.18"
  }
 },
 "nbformat": 4,
 "nbformat_minor": 4
}
