{
 "cells": [
  {
   "cell_type": "markdown",
   "metadata": {},
   "source": [
    "https://colab.research.google.com/github/JunetaeKim/GCSP-HBDA/blob/main/Week7/GrdientTape_l1l2.ipynb"
   ]
  },
  {
   "cell_type": "markdown",
   "metadata": {},
   "source": [
    "# TensorFlow DNN Tutorial - Jupyter Notebook Version\n",
    "\n",
    "## **Introduction to Deep Learning with TensorFlow**\n",
    "\n",
    "This provides a tutorial on implementing deep neural networks (DNN) using TensorFlow. \n",
    "It focuses on applying L1 and L2 regularization manually using tf.GradientTape for better control and understanding.\n",
    "\n",
    "Deep learning models tend to overfit, meaning they memorize the training data rather than generalizing well to unseen data. \n",
    "Regularization techniques such as L1 (Lasso) and L2 (Ridge) help improve generalization by constraining the model's parameters.\n",
    "In this tutorial, we will explore how to manually apply these techniques using TensorFlow's GradientTape."
   ]
  },
  {
   "cell_type": "markdown",
   "metadata": {},
   "source": [
    "## **1. Setting Up TensorFlow**"
   ]
  },
  {
   "cell_type": "code",
   "execution_count": 3,
   "metadata": {},
   "outputs": [],
   "source": [
    "#!pip install tensorflow numpy matplotlib scikit-learn\n",
    "import tensorflow as tf\n",
    "import numpy as np\n",
    "import matplotlib.pyplot as plt\n",
    "from sklearn.model_selection import train_test_split"
   ]
  },
  {
   "cell_type": "code",
   "execution_count": 4,
   "metadata": {},
   "outputs": [
    {
     "name": "stdout",
     "output_type": "stream",
     "text": [
      "2.10.0\n"
     ]
    }
   ],
   "source": [
    "print(tf.__version__)"
   ]
  },
  {
   "cell_type": "markdown",
   "metadata": {},
   "source": [
    "## **2. Creating a Toy Dataset**\n",
    "#### A synthetic dataset is useful for understanding how L1 and L2 regularization impact model training. \n",
    "#### We generate random feature vectors and corresponding labels."
   ]
  },
  {
   "cell_type": "code",
   "execution_count": 5,
   "metadata": {},
   "outputs": [],
   "source": [
    "# Generate sample data\n",
    "X = np.random.rand(1000, 10)\n",
    "y = np.random.randint(0, 2, size=(1000,))\n",
    "\n",
    "# Split dataset\n",
    "X_train, X_test, y_train, y_test = train_test_split(X, y, test_size=0.2, random_state=42)"
   ]
  },
  {
   "cell_type": "markdown",
   "metadata": {},
   "source": [
    "## **3. Implementing L1 & L2 Regularization with GradientTape**"
   ]
  },
  {
   "cell_type": "markdown",
   "metadata": {},
   "source": [
    "### **Define Custom Regularization Function**\n",
    "\n",
    "#### L1 regularization penalizes the absolute values of the weights, leading to sparsity in the model (some weights become zero). \n",
    "#### L2 regularization penalizes the squared values of the weights, which helps prevent large weight values and improves stability."
   ]
  },
  {
   "cell_type": "code",
   "execution_count": 6,
   "metadata": {},
   "outputs": [],
   "source": [
    "def l1_l2_regularization(weights, l1=0.01, l2=0.01):\n",
    "    return l1 * tf.reduce_sum(tf.abs(weights)) + l2 * tf.reduce_sum(tf.square(weights))"
   ]
  },
  {
   "cell_type": "markdown",
   "metadata": {},
   "source": [
    "### **Define a Custom Training Step with Regularization**\n",
    "\n",
    "#### Using tf.GradientTape, we compute gradients and manually add L1/L2 regularization loss to the total loss."
   ]
  },
  {
   "cell_type": "code",
   "execution_count": 7,
   "metadata": {},
   "outputs": [],
   "source": [
    "def train_step(model, optimizer, loss_fn, x, y):\n",
    "    with tf.GradientTape() as tape:\n",
    "        y_pred = model(x, training=True)\n",
    "        loss = loss_fn(y, y_pred)\n",
    "        reg_loss = sum(l1_l2_regularization(layer.kernel) for layer in model.layers if hasattr(layer, 'kernel'))\n",
    "        total_loss = loss + reg_loss\n",
    "    \n",
    "    gradients = tape.gradient(total_loss, model.trainable_variables)\n",
    "    optimizer.apply_gradients(zip(gradients, model.trainable_variables))\n",
    "    return total_loss"
   ]
  },
  {
   "cell_type": "markdown",
   "metadata": {},
   "source": [
    "## **4. Building and Training the Model**"
   ]
  },
  {
   "cell_type": "markdown",
   "metadata": {},
   "source": [
    "### **Define a Simple DNN**\n",
    "#### This model consists of three layers, where each layer applies the ReLU activation function to introduce non-linearity."
   ]
  },
  {
   "cell_type": "code",
   "execution_count": 12,
   "metadata": {},
   "outputs": [],
   "source": [
    "model = tf.keras.Sequential([\n",
    "    tf.keras.layers.Dense(128, activation='relu'),\n",
    "    tf.keras.layers.Dense(64, activation='relu'),\n",
    "    tf.keras.layers.Dense(10, activation='softmax')\n",
    "])\n",
    "\n",
    "# Compile the model before training/testing\n",
    "model.compile(optimizer='adam', loss='sparse_categorical_crossentropy', metrics=['accuracy'])"
   ]
  },
  {
   "cell_type": "markdown",
   "metadata": {},
   "source": [
    "### **Compile Model and Train Using Custom Training Loop**"
   ]
  },
  {
   "cell_type": "code",
   "execution_count": 13,
   "metadata": {},
   "outputs": [
    {
     "name": "stdout",
     "output_type": "stream",
     "text": [
      "Epoch 1, Loss: 13.0782\n",
      "Epoch 2, Loss: 12.9292\n",
      "Epoch 3, Loss: 12.7818\n",
      "Epoch 4, Loss: 12.6356\n",
      "Epoch 5, Loss: 12.4909\n",
      "Epoch 6, Loss: 12.3476\n",
      "Epoch 7, Loss: 12.2055\n",
      "Epoch 8, Loss: 12.0648\n",
      "Epoch 9, Loss: 11.9256\n",
      "Epoch 10, Loss: 11.7874\n"
     ]
    }
   ],
   "source": [
    "optimizer = tf.keras.optimizers.Adam()\n",
    "loss_fn = tf.keras.losses.SparseCategoricalCrossentropy()\n",
    "\n",
    "for epoch in range(10):\n",
    "    loss = train_step(model, optimizer, loss_fn, X_train, y_train)\n",
    "    print(f\"Epoch {epoch+1}, Loss: {loss.numpy():.4f}\")"
   ]
  },
  {
   "cell_type": "markdown",
   "metadata": {},
   "source": [
    "## **5. Understanding the Impact of L1 & L2 Regularization**"
   ]
  },
  {
   "cell_type": "markdown",
   "metadata": {},
   "source": [
    "### **Display Regularized Weights**\n",
    "#### Regularization affects the weight distribution, pushing unnecessary weights toward zero and reducing complexity."
   ]
  },
  {
   "cell_type": "code",
   "execution_count": 14,
   "metadata": {
    "scrolled": true
   },
   "outputs": [
    {
     "name": "stdout",
     "output_type": "stream",
     "text": [
      "Layer: dense_3, Regularized Weights: [[-0.10528363 -0.07025541 -0.02767022 ... -0.01465642 -0.09236439\n",
      "  -0.02959546]\n",
      " [ 0.04060793 -0.15967962  0.155569   ... -0.02949466  0.07974542\n",
      "   0.12811108]\n",
      " [-0.02316    -0.00017011 -0.0349676  ... -0.10548448  0.03252522\n",
      "  -0.14209041]\n",
      " ...\n",
      " [-0.0494744  -0.09723233 -0.1195354  ...  0.0964068  -0.1267807\n",
      "   0.01476271]\n",
      " [ 0.12154808  0.0596876  -0.03958571 ...  0.16512296  0.13419013\n",
      "  -0.1422494 ]\n",
      " [-0.01680803 -0.04002903 -0.02767006 ...  0.04656839 -0.12917888\n",
      "   0.07815712]]\n",
      "Layer: dense_4, Regularized Weights: [[-9.31106284e-02 -1.31267503e-01 -9.99342129e-02 ... -1.77748955e-03\n",
      "   1.55297607e-01  1.40790194e-01]\n",
      " [-8.76100659e-02 -1.30103334e-04 -2.19084136e-02 ... -1.29603535e-01\n",
      "   8.34237337e-02  1.04655018e-02]\n",
      " [ 1.44727007e-01 -1.04990594e-01  4.90552820e-02 ...  1.80220492e-02\n",
      "  -1.47314340e-01 -2.52827648e-02]\n",
      " ...\n",
      " [ 1.48240671e-01  9.24005881e-02 -1.48745582e-01 ... -1.24787152e-01\n",
      "   8.62960815e-02  1.10022552e-01]\n",
      " [-5.84540553e-02  1.05177127e-01  1.26600251e-01 ...  1.84627541e-03\n",
      "  -1.28409952e-01  3.22585329e-02]\n",
      " [-1.05850831e-01 -2.50133146e-02 -4.33584005e-02 ...  3.64292180e-03\n",
      "   6.34880140e-02 -1.43554971e-01]]\n",
      "Layer: dense_5, Regularized Weights: [[ 2.73759097e-01  1.54695570e-01  2.73589015e-01  9.88241136e-02\n",
      "   3.24608386e-02  1.97465912e-01 -1.44614249e-01  1.33609444e-01\n",
      "  -1.42579362e-01  1.66798353e-01]\n",
      " [ 1.43583631e-02 -1.60892934e-01 -2.61797011e-01  1.31657980e-02\n",
      "   1.12228990e-01  1.37271985e-01 -9.34884027e-02 -1.13394849e-01\n",
      "   6.15963072e-04  1.82734385e-01]\n",
      " [-1.27346054e-01 -2.91332938e-02  2.24822164e-01  9.82480645e-02\n",
      "  -2.43703634e-01 -8.58680904e-02  7.21045658e-02  1.07484095e-01\n",
      "  -8.04664046e-02 -2.56038696e-01]\n",
      " [-2.20414966e-01  1.52555957e-01  4.59959209e-02  2.58413613e-01\n",
      "  -2.03421354e-01  7.19974339e-02  2.08209246e-01  2.08036870e-01\n",
      "  -2.50576530e-02  2.18074664e-01]\n",
      " [ 7.79095222e-04 -8.33731890e-02  1.58916503e-01 -1.66765392e-01\n",
      "  -1.35480925e-01  2.14352712e-01  1.01138256e-01  1.33883918e-03\n",
      "  -4.48996909e-02  1.76605940e-01]\n",
      " [-1.66887436e-02  2.31149122e-01 -2.83898995e-03 -9.34796110e-02\n",
      "   5.94917499e-02  4.82379459e-02  8.73976722e-02 -2.62246460e-01\n",
      "   2.41561055e-01  2.43223354e-01]\n",
      " [-1.35173360e-02 -2.27427959e-01  2.15996638e-01  1.95520133e-01\n",
      "   2.05013722e-01  5.44285178e-02 -2.42025942e-01  1.05569370e-01\n",
      "  -6.19796030e-02 -1.06392175e-01]\n",
      " [-1.46903247e-01 -9.62761566e-02  2.53207862e-01 -1.40695825e-01\n",
      "   2.50034928e-01  6.96696639e-02  1.57631025e-01 -1.18305837e-03\n",
      "   1.38078630e-01  7.03165755e-02]\n",
      " [ 2.53149629e-01 -5.82286566e-02  1.66347891e-01 -2.31857985e-01\n",
      "  -5.02184108e-02 -9.97118130e-02 -3.35671417e-02 -1.94270566e-01\n",
      "  -1.91214055e-01 -1.96349367e-01]\n",
      " [ 2.51333475e-01 -1.63493259e-03  1.02986082e-01 -1.23935051e-01\n",
      "  -4.82313521e-02  1.46466658e-01  4.30439226e-02  1.98461086e-01\n",
      "  -1.68589205e-01 -2.39992723e-01]\n",
      " [ 4.53194007e-02  1.18865900e-01  1.26601979e-01  2.58336008e-01\n",
      "   4.54411246e-02 -1.68490708e-01  2.01323964e-02  1.79014340e-01\n",
      "  -1.03054404e-01 -1.99861452e-01]\n",
      " [-2.24138185e-01 -8.60453844e-02  2.66590387e-01 -2.50204951e-01\n",
      "   2.03337923e-01 -2.22397014e-01  2.06942558e-01  1.50444673e-03\n",
      "  -3.19543406e-02 -2.33369172e-01]\n",
      " [-2.50225235e-02  2.32636407e-01  1.66246369e-01  1.54562831e-01\n",
      "   2.48836845e-01 -6.71568215e-02  1.52186736e-01 -1.84247438e-02\n",
      "  -1.43625736e-01  1.39592543e-01]\n",
      " [-6.43927557e-03  1.99871436e-01 -1.38968602e-01  1.57246485e-01\n",
      "   2.41919950e-01 -1.19898520e-01 -7.82973096e-02  1.22393072e-01\n",
      "   1.31560817e-01  1.43429339e-01]\n",
      " [-2.57893473e-01  2.42650509e-01 -1.24252595e-01  6.41216636e-02\n",
      "   8.40259790e-02 -1.98647544e-01 -2.87169218e-01  2.24903867e-01\n",
      "   2.00765893e-01 -2.92941391e-01]\n",
      " [-2.71218628e-01  7.90034384e-02  2.71087050e-01  8.79525468e-02\n",
      "  -2.30023474e-01  5.02285622e-02 -8.00051354e-03  2.14036167e-01\n",
      "  -2.61729043e-02 -2.67020047e-01]\n",
      " [ 2.62030214e-01  2.25117311e-01  1.61749586e-01  1.82957083e-01\n",
      "  -1.13776132e-01 -1.16235010e-01 -2.64076144e-01 -4.28530611e-02\n",
      "   1.87122896e-01 -1.78165898e-01]\n",
      " [ 5.85992709e-02  1.12421744e-01  1.58485085e-01 -8.01157728e-02\n",
      "  -5.27190864e-02  3.38516571e-02  1.90580204e-01 -2.19140232e-01\n",
      "  -2.03326896e-01  2.22349942e-01]\n",
      " [ 1.27084896e-01  1.81450590e-01 -2.74361610e-01 -9.63808820e-02\n",
      "  -1.02754436e-01 -9.98602509e-02 -6.73358366e-02  1.04806088e-01\n",
      "   1.98831767e-01  4.24903072e-02]\n",
      " [-5.47779491e-04 -2.15771068e-02  2.02350039e-02  1.27852678e-01\n",
      "  -1.41622961e-01  8.74378011e-02  2.30653957e-01  1.70582488e-01\n",
      "   2.79371813e-02  1.54010206e-01]\n",
      " [ 2.21359164e-01  1.34700492e-01 -1.02669649e-01 -2.86863353e-02\n",
      "  -2.55103171e-01  2.44254068e-01  1.81255564e-01  2.53007293e-01\n",
      "   7.00472072e-02  3.02453618e-02]\n",
      " [ 1.32594824e-01 -1.18517317e-01 -5.36003616e-03  2.58199070e-02\n",
      "   2.60398775e-01  1.79721668e-01  1.22019969e-01  2.21408442e-01\n",
      "  -1.34236857e-01 -1.09498434e-01]\n",
      " [-2.28010789e-01  2.41379619e-01 -2.47071758e-01  8.82664248e-02\n",
      "   1.29600525e-01  1.86903790e-01 -1.98425636e-01 -2.17694953e-01\n",
      "   1.25851691e-01  2.23174691e-01]\n",
      " [-1.93622664e-01  4.39146301e-03  2.44426250e-01 -5.19070402e-02\n",
      "  -1.35845780e-01 -1.30179852e-01 -8.69318172e-02  9.82139930e-02\n",
      "   6.74425140e-02  2.30652332e-01]\n",
      " [ 2.56685525e-01 -2.09557459e-01  7.86706656e-02  1.64995104e-01\n",
      "  -1.02775916e-01 -2.22293381e-02  2.35031769e-01  1.81519389e-01\n",
      "  -7.03142360e-02  1.41642317e-01]\n",
      " [-2.27321014e-01  6.97629526e-02  2.05667257e-01  1.63231447e-01\n",
      "  -4.68347929e-02  3.71702984e-02 -1.27497226e-01  1.12095829e-02\n",
      "  -2.05912694e-01 -2.47870266e-01]\n",
      " [-1.27189726e-01  2.54524052e-01 -1.38634801e-01  7.14922324e-03\n",
      "   3.87580134e-02  1.33676216e-01  1.01811565e-01 -2.12519720e-01\n",
      "  -2.09802181e-01  7.15415329e-02]\n",
      " [ 5.35570309e-02  2.62956202e-01 -1.14900485e-01  6.30001798e-02\n",
      "  -1.77671477e-01 -2.74704576e-01 -3.95518757e-04  2.33818337e-01\n",
      "   2.08518520e-01 -1.85259342e-01]\n",
      " [ 1.60877973e-01  1.96256384e-01 -1.48550747e-02 -2.40317106e-01\n",
      "  -2.78023362e-01 -6.42218813e-02 -3.34672909e-03  7.20526427e-02\n",
      "  -2.18743831e-01  1.94139183e-01]\n",
      " [-7.94037655e-02 -2.20895022e-01 -6.41513169e-02  7.40322396e-02\n",
      "   3.50133106e-02 -1.45460248e-01  2.63992667e-01  2.60120600e-01\n",
      "   3.11881443e-03  2.41175875e-01]\n",
      " [-1.53788283e-01 -1.37443587e-01 -1.18792407e-01 -2.86941081e-02\n",
      "   5.00314534e-02 -1.89757198e-02  1.67172551e-01  9.33997855e-02\n",
      "   2.56891370e-01 -2.46880613e-02]\n",
      " [-3.08395494e-02 -1.13472216e-01  5.93787134e-02  2.54377931e-01\n",
      "   1.13215238e-01  6.77960739e-02 -1.19708240e-01 -8.69175270e-02\n",
      "   3.59284654e-02 -1.10410318e-01]\n",
      " [-1.21667504e-01  1.42553449e-01 -1.97012857e-01 -1.44148067e-01\n",
      "  -2.52422988e-01  4.79351059e-02  8.39372873e-02 -9.50841904e-02\n",
      "   1.81704685e-01  7.23508745e-03]\n",
      " [ 2.48377413e-01  1.06209340e-02 -1.42757282e-01 -2.62025386e-01\n",
      "  -2.71724731e-01 -4.36382107e-02 -2.33596131e-01  2.20920667e-02\n",
      "  -2.20118072e-02  1.30630180e-01]\n",
      " [-6.72265515e-02 -2.03146294e-01 -9.01619866e-02  2.55627453e-01\n",
      "  -1.26677185e-01 -2.84435879e-02  8.39164574e-03 -1.00490808e-01\n",
      "   3.52330767e-02  2.26294354e-01]\n",
      " [ 1.91729218e-01  2.49732181e-01 -1.94002986e-01 -1.84960976e-01\n",
      "  -2.27754921e-01  2.24904910e-01  2.46993452e-01  6.56426251e-02\n",
      "  -1.43737257e-01  3.14707048e-02]\n",
      " [ 1.75693929e-01 -2.74032238e-03 -2.74240226e-01 -1.21737503e-01\n",
      "   8.78180414e-02  9.34206694e-02 -2.11140677e-01 -8.95068422e-02\n",
      "  -1.23636551e-01 -1.13560066e-01]\n",
      " [ 1.97412431e-01 -1.05801404e-01  1.79872498e-01  2.40182385e-01\n",
      "  -4.07697149e-02  9.50273126e-02 -2.05614492e-01 -1.52324989e-01\n",
      "   1.95103791e-02  1.38966382e-01]\n",
      " [ 5.33982590e-02 -5.44120595e-02 -6.55984208e-02 -2.64598876e-01\n",
      "   2.64130682e-01 -1.61215469e-01  5.16694188e-02 -1.01113148e-01\n",
      "   3.27182338e-02  1.54562458e-01]\n",
      " [-5.43708429e-02  6.15216084e-02  8.54024887e-02 -1.73034407e-02\n",
      "   9.60483849e-02  1.46388933e-01  1.71068646e-02  1.01143424e-03\n",
      "  -7.68470764e-02 -2.57067800e-01]\n",
      " [-5.15011959e-02  2.03176036e-01  2.55741209e-01  1.50356650e-01\n",
      "   1.27451755e-02  1.68362424e-01  1.38946310e-01 -6.64127693e-02\n",
      "  -2.37645041e-02 -2.71951765e-01]\n",
      " [ 1.14480160e-01 -1.94116116e-01 -1.61524698e-01  1.52865708e-01\n",
      "  -1.24700315e-01 -2.51137346e-01 -2.52030253e-01  7.69043267e-02\n",
      "  -5.98756559e-02 -1.27177149e-01]\n",
      " [ 1.27740562e-01 -2.56910920e-01  1.09736353e-01 -1.91981241e-01\n",
      "   2.08655316e-02  1.97820604e-01 -1.83747023e-01 -9.50315297e-02\n",
      "  -2.40186527e-01 -7.44610056e-02]\n",
      " [-1.30074605e-01  3.79278623e-02  1.52774796e-01 -2.31042475e-01\n",
      "  -1.78140879e-01  1.13581382e-01 -5.89497425e-02  1.92042455e-01\n",
      "   2.56790757e-01  7.86747858e-02]\n",
      " [ 3.77685875e-02  1.76168203e-01 -2.37079114e-01 -2.16290429e-01\n",
      "   1.03999756e-01  1.65269285e-01 -1.69659242e-01  1.90649986e-01\n",
      "  -1.28945842e-01  1.22317128e-01]\n",
      " [-2.15585455e-02 -2.55388409e-01 -1.96207911e-01  2.32594013e-02\n",
      "   5.36432043e-02 -8.78418535e-02 -3.09609342e-02  1.09568499e-01\n",
      "  -2.10633799e-02 -1.56377107e-01]\n",
      " [ 1.20943844e-01  1.36693493e-01 -1.40652746e-01 -2.01443866e-01\n",
      "   2.35485733e-01 -2.01682164e-03 -4.15854119e-02 -6.91820309e-02\n",
      "   2.44711876e-01  1.36421621e-01]\n",
      " [-4.03981172e-02  6.66912238e-05  1.39661789e-01 -8.01285654e-02\n",
      "   1.43966064e-01  2.09758788e-01  7.65748546e-02 -6.91587031e-02\n",
      "  -2.22599179e-01  1.25386834e-01]\n",
      " [ 9.99870300e-02  1.85111880e-01 -4.19405960e-02 -5.56746796e-02\n",
      "  -7.25368550e-03 -2.50259221e-01 -9.02988687e-02 -8.51193145e-02\n",
      "   3.75604779e-02 -1.90627389e-02]\n",
      " [-2.35211402e-01  2.21306175e-01  1.87759828e-02  1.42647594e-01\n",
      "   1.94278032e-01  2.57212967e-01  1.73685327e-01 -2.40565777e-01\n",
      "   1.44026741e-01  3.81193422e-02]\n",
      " [ 1.18814118e-01 -2.26327330e-01  7.33880000e-03 -2.28307545e-01\n",
      "  -7.91655555e-02  2.69093513e-01  2.51150519e-01 -2.36532286e-01\n",
      "  -1.08207166e-01  6.25690967e-02]\n",
      " [-7.30759129e-02 -2.20076263e-01  6.40312582e-02  2.72601664e-01\n",
      "  -1.60885885e-01 -9.39506292e-02  1.12436213e-01 -2.41613939e-01\n",
      "   1.46503570e-02 -1.07158951e-01]\n",
      " [-3.11663048e-03  1.32800221e-01  3.75513770e-02  1.77762061e-01\n",
      "   5.75935468e-03 -2.60029346e-01 -2.18331739e-01 -2.03018039e-01\n",
      "   2.72125751e-01  9.57923606e-02]\n",
      " [-6.43612593e-02 -2.25854546e-01 -2.51807511e-01 -2.50103891e-01\n",
      "   2.07278393e-02 -1.96474165e-01  1.63665995e-01  7.89120644e-02\n",
      "   2.72387005e-02  2.18351960e-01]\n",
      " [-2.31032267e-01  1.05633475e-01  9.80394259e-02 -2.54209757e-01\n",
      "   9.74998698e-02  2.06925720e-01  2.28659920e-02  1.59546211e-01\n",
      "   1.01526745e-01 -1.41733110e-01]\n",
      " [-2.62887150e-01 -2.58337706e-01 -2.46596143e-01 -2.60625988e-01\n",
      "   1.29129544e-01  1.23347059e-01  2.57120989e-02 -2.73350388e-01\n",
      "  -1.05603389e-01 -2.01323077e-01]\n",
      " [ 1.27088502e-01 -2.72891849e-01 -1.76955357e-01 -3.50095419e-04\n",
      "   1.22042008e-01 -2.24051904e-02 -8.31722617e-02  1.02868536e-02\n",
      "   2.29753450e-01  2.14814439e-01]\n",
      " [ 2.71140516e-01 -1.42008230e-01  4.36288975e-02 -4.42805476e-02\n",
      "  -2.70679057e-01  2.55320743e-02  9.40926075e-02  1.65767506e-01\n",
      "   1.57751143e-01 -1.59436557e-02]\n",
      " [-1.43783689e-01 -2.38392338e-01 -4.18001004e-02 -1.30998895e-01\n",
      "   1.77392036e-01 -1.95909351e-01 -1.99167684e-01  1.28943637e-01\n",
      "   1.95577368e-01 -3.38185169e-02]\n",
      " [ 3.01485304e-02 -1.59525946e-01  1.35784656e-01  2.73438245e-01\n",
      "  -1.13745527e-02 -1.84545204e-01  8.54403824e-02  2.71173179e-01\n",
      "  -2.14847997e-01 -1.89974010e-01]\n",
      " [ 1.93941906e-01 -2.69348711e-01 -1.90458745e-01 -1.85837060e-01\n",
      "   4.73800115e-04  1.00324199e-01 -1.52023494e-01 -4.34664711e-02\n",
      "  -5.89266643e-02  2.29872167e-02]\n",
      " [ 2.09091470e-01  2.82023940e-03 -9.89489034e-02  1.72094017e-01\n",
      "  -1.54423475e-01 -3.24010998e-02 -1.35026976e-01  1.20411903e-01\n",
      "   2.38008633e-01  1.62647203e-01]\n",
      " [ 4.03289534e-02  7.71585945e-03 -1.30386995e-02 -2.64389105e-02\n",
      "   1.68958083e-01 -2.36496285e-01  9.25405696e-02  1.07388042e-01\n",
      "   8.29381272e-02  2.43426755e-01]\n",
      " [ 1.59113482e-01  5.99755794e-02 -8.61627087e-02 -1.05732545e-01\n",
      "  -1.63415790e-01  1.45038158e-01  1.18110135e-01  6.20002039e-02\n",
      "  -1.31664559e-01 -1.75975841e-02]]\n"
     ]
    }
   ],
   "source": [
    "for layer in model.layers:\n",
    "    if hasattr(layer, 'kernel'):\n",
    "        print(f'Layer: {layer.name}, Regularized Weights: {layer.kernel.numpy()}')"
   ]
  },
  {
   "cell_type": "markdown",
   "metadata": {},
   "source": [
    "### **Compare Model Performance**\n",
    "#### We evaluate the model on the test set to understand how well it generalizes."
   ]
  },
  {
   "cell_type": "code",
   "execution_count": 15,
   "metadata": {},
   "outputs": [
    {
     "name": "stdout",
     "output_type": "stream",
     "text": [
      "7/7 [==============================] - 0s 2ms/step - loss: 1.9156 - accuracy: 0.5800\n",
      "Test Loss: 1.915555477142334, Test Accuracy: 0.5799999833106995\n"
     ]
    }
   ],
   "source": [
    "loss, accuracy = model.evaluate(X_test, y_test)\n",
    "print(f'Test Loss: {loss}, Test Accuracy: {accuracy}')"
   ]
  },
  {
   "cell_type": "code",
   "execution_count": null,
   "metadata": {},
   "outputs": [],
   "source": []
  },
  {
   "cell_type": "markdown",
   "metadata": {},
   "source": [
    "## **6. Visualizing Regularization Effects**"
   ]
  },
  {
   "cell_type": "markdown",
   "metadata": {},
   "source": [
    "### **Plot Weight Distribution**\n",
    "#### A well-regularized model has weights that are neither too large nor too small.\n",
    "#### The following histogram visualizes weight distribution."
   ]
  },
  {
   "cell_type": "code",
   "execution_count": 16,
   "metadata": {},
   "outputs": [
    {
     "data": {
      "image/png": "[encoded data removed]",
      "text/plain": [
       "<Figure size 640x480 with 1 Axes>"
      ]
     },
     "metadata": {},
     "output_type": "display_data"
    }
   ],
   "source": [
    "weights = model.layers[1].get_weights()[0].flatten()\n",
    "plt.hist(weights, bins=50)\n",
    "plt.title('Weight Distribution with Manual L1 & L2 Regularization')\n",
    "plt.xlabel('Weight Values')\n",
    "plt.ylabel('Frequency')\n",
    "plt.show()"
   ]
  },
  {
   "cell_type": "code",
   "execution_count": null,
   "metadata": {},
   "outputs": [],
   "source": []
  },
  {
   "cell_type": "markdown",
   "metadata": {},
   "source": [
    "## **7. Key Takeaways and Best Practices**"
   ]
  },
  {
   "cell_type": "markdown",
   "metadata": {},
   "source": [
    "#### **L1 Regularization**: Encourages sparsity, useful for feature selection.\n",
    "\n",
    "#### **L2 Regularization**: Prevents large weights, leading to more stable models.\n",
    "\n",
    "#### **Manual Implementation using GradientTape**: Provides better control over the loss function.\n"
   ]
  }
 ],
 "metadata": {
  "kernelspec": {
   "display_name": "Python 3 (ipykernel)",
   "language": "python",
   "name": "python3"
  },
  "language_info": {
   "codemirror_mode": {
    "name": "ipython",
    "version": 3
   },
   "file_extension": ".py",
   "mimetype": "text/x-python",
   "name": "python",
   "nbconvert_exporter": "python",
   "pygments_lexer": "ipython3",
   "version": "3.9.18"
  }
 },
 "nbformat": 4,
 "nbformat_minor": 4
}
