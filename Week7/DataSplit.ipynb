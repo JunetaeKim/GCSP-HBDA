{
 "cells": [
  {
   "cell_type": "code",
   "execution_count": 38,
   "id": "b72e6bfc-aed5-4a5a-999e-ef01788c4fa3",
   "metadata": {},
   "outputs": [],
   "source": [
    "import os\n",
    "import pandas as pd\n",
    "import numpy as np"
   ]
  },
  {
   "cell_type": "code",
   "execution_count": 36,
   "id": "d9a943f4-3d3c-4903-bb5f-0e0552dcdc9f",
   "metadata": {},
   "outputs": [],
   "source": [
    "pmgeo = pd.read_csv('./Data/pmgeo.csv')\n",
    "n = 5\n",
    "splits = np.array_split(pmgeo, n)\n",
    "\n",
    "for i, split in enumerate(splits):\n",
    "   split.to_csv('./Data/PM/pmgeo'+str(i)+'.csv', index=False)"
   ]
  },
  {
   "cell_type": "code",
   "execution_count": null,
   "id": "dda8bdad-6978-4e62-992c-ff3819b5b623",
   "metadata": {},
   "outputs": [],
   "source": []
  },
  {
   "cell_type": "code",
   "execution_count": null,
   "id": "af2275ac-c4c0-4ebc-bbe3-e2c2a37fab39",
   "metadata": {},
   "outputs": [],
   "source": []
  }
 ],
 "metadata": {
  "kernelspec": {
   "display_name": "Python 3 (ipykernel)",
   "language": "python",
   "name": "python3"
  },
  "language_info": {
   "codemirror_mode": {
    "name": "ipython",
    "version": 3
   },
   "file_extension": ".py",
   "mimetype": "text/x-python",
   "name": "python",
   "nbconvert_exporter": "python",
   "pygments_lexer": "ipython3",
   "version": "3.9.18"
  }
 },
 "nbformat": 4,
 "nbformat_minor": 5
}
