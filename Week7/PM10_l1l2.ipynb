{
 "cells": [
  {
   "cell_type": "markdown",
   "metadata": {},
   "source": [
    "https://colab.research.google.com/github/JunetaeKim/GCSP-HBDA/blob/main/Week7/PM10_l1l2.ipynb"
   ]
  },
  {
   "cell_type": "markdown",
   "metadata": {},
   "source": [
    "# TensorFlow DNN Tutorial - Jupyter Notebook Version\n",
    "\n",
    "## **Introduction to Deep Learning with TensorFlow**\n",
    "\n",
    "This provides a tutorial on implementing deep neural networks (DNN) using TensorFlow. \n",
    "It focuses on applying L1 and L2 regularization using TensorFlow's built-in functions for efficiency and using the Functional API.\n",
    "\n",
    "Deep learning models tend to overfit, meaning they memorize the training data rather than generalizing well to unseen data. Regularization techniques such as L1 (Lasso) and L2 (Ridge) help improve generalization by constraining the model's parameters. \n",
    "\n",
    "In this tutorial, we will explore how to apply these techniques efficiently using TensorFlow's Functional API."
   ]
  },
  {
   "cell_type": "markdown",
   "metadata": {},
   "source": [
    "## **1. Setting Up TensorFlow**"
   ]
  },
  {
   "cell_type": "code",
   "execution_count": 1,
   "metadata": {},
   "outputs": [],
   "source": [
    "#!pip install tensorflow numpy matplotlib scikit-learn\n",
    "import tensorflow as tf\n",
    "import numpy as np\n",
    "import pandas as pd\n",
    "import matplotlib.pyplot as plt\n",
    "import os\n",
    "import requests\n",
    "from sklearn.model_selection import train_test_split\n",
    "from sklearn.feature_selection import VarianceThreshold\n",
    "from sklearn.preprocessing import MinMaxScaler"
   ]
  },
  {
   "cell_type": "code",
   "execution_count": 2,
   "metadata": {},
   "outputs": [
    {
     "name": "stdout",
     "output_type": "stream",
     "text": [
      "2.10.0\n"
     ]
    }
   ],
   "source": [
    "print(tf.__version__)"
   ]
  },
  {
   "cell_type": "markdown",
   "metadata": {},
   "source": [
    "## **2. Loading and Preprocessing the GEMPM Dataset**\n",
    "The GEMPM dataset is stored in a GitHub repository. We download the dataset files."
   ]
  },
  {
   "cell_type": "code",
   "execution_count": 3,
   "metadata": {},
   "outputs": [],
   "source": [
    "# Define the base URL for the dataset files\n",
    "base_url = \"https://raw.githubusercontent.com/JunetaeKim/GCSP-HBDA/main/Week7/Data/PM/\"\n",
    "\n",
    "# List of CSV files in the repository\n",
    "file_names = [\"pmgeo0.csv\", \"pmgeo1.csv\", \"pmgeo2.csv\", \"pmgeo3.csv\", \"pmgeo4.csv\"]  # Update with actual file names\n",
    "\n",
    "# Load all CSV files directly from GitHub\n",
    "pmgeo_list = [pd.read_csv(base_url + file) for file in file_names]\n",
    "pmgeo = pd.concat(pmgeo_list, axis=0)\n",
    "\n",
    "# Drop unnecessary columns\n",
    "pmgeo = pmgeo.drop(columns=['TMSID', 'CODE', 'DATE', 'yr'])\n",
    "\n",
    "# Separate features and target\n",
    "X = pmgeo.drop(columns=['PM10'])  # Drop target variable\n",
    "y = pmgeo['PM10']  # Target variable\n",
    "\n",
    "# Compute variance for each feature\n",
    "selector = VarianceThreshold()\n",
    "selector.fit(X)\n",
    "\n",
    "# Get feature variances and select top 50 features\n",
    "variances = selector.variances_\n",
    "top_50_indices = np.argsort(variances)[-50:]  # Select top 50 indices\n",
    "X_selected = X.iloc[:, top_50_indices]  # Filter top 50 features\n",
    "\n",
    "# Normalize the selected features using Min-Max scaling\n",
    "scaler = MinMaxScaler()\n",
    "X_selected = scaler.fit_transform(X_selected)\n",
    "\n",
    "# Split dataset into training and testing sets\n",
    "X_train, X_test, y_train, y_test = train_test_split(X_selected, y, test_size=0.2, random_state=42)"
   ]
  },
  {
   "cell_type": "markdown",
   "metadata": {},
   "source": [
    "## **3.  Implementing L1 & L2 Regularization with Functional API**"
   ]
  },
  {
   "cell_type": "markdown",
   "metadata": {},
   "source": [
    "### **Define a Functional API Model with Built-in L1/L2 Regularization**\n",
    "\n",
    "TensorFlow provides built-in regularization functions (tf.keras.regularizers.l1_l2) to efficiently apply L1 and L2 constraints."
   ]
  },
  {
   "cell_type": "code",
   "execution_count": 4,
   "metadata": {},
   "outputs": [],
   "source": [
    "from tensorflow.keras import Model, Input\n",
    "from tensorflow.keras.layers import Dense\n",
    "from tensorflow.keras.regularizers import l1_l2\n",
    "\n",
    "# Define input layer\n",
    "inputs = Input(shape=(X_selected.shape[1],))\n",
    "\n",
    "# Hidden layers with built-in L1/L2 regularization\n",
    "x = Dense(128, activation='relu', kernel_regularizer=l1_l2(l1=0.01, l2=0.01))(inputs)\n",
    "x = Dense(64, activation='relu', kernel_regularizer=l1_l2(l1=0.01, l2=0.01))(x)\n",
    "\n",
    "# Output layer\n",
    "outputs = Dense(1, activation='linear')(x)  # Regression task\n",
    "\n",
    "# Define model\n",
    "model = Model(inputs=inputs, outputs=outputs)\n",
    "\n",
    "# Compile the model\n",
    "model.compile(optimizer='adam', loss='mse', metrics=['mae'])"
   ]
  },
  {
   "cell_type": "markdown",
   "metadata": {},
   "source": [
    "## **4.Training the Model**"
   ]
  },
  {
   "cell_type": "markdown",
   "metadata": {},
   "source": [
    "### **Train Using Standard Training Loop**"
   ]
  },
  {
   "cell_type": "code",
   "execution_count": 5,
   "metadata": {
    "scrolled": true
   },
   "outputs": [
    {
     "name": "stdout",
     "output_type": "stream",
     "text": [
      "Epoch 1/10\n",
      "1537/1537 [==============================] - 5s 3ms/step - loss: 430.4039 - mae: 15.3896 - val_loss: 296.1711 - val_mae: 13.2466\n",
      "Epoch 2/10\n",
      "1537/1537 [==============================] - 4s 2ms/step - loss: 297.5624 - mae: 13.2068 - val_loss: 287.0688 - val_mae: 12.9545\n",
      "Epoch 3/10\n",
      "1537/1537 [==============================] - 4s 2ms/step - loss: 292.8362 - mae: 13.1078 - val_loss: 285.3163 - val_mae: 12.9737\n",
      "Epoch 4/10\n",
      "1537/1537 [==============================] - 4s 2ms/step - loss: 290.6204 - mae: 13.0698 - val_loss: 282.8764 - val_mae: 12.8892\n",
      "Epoch 5/10\n",
      "1537/1537 [==============================] - 4s 2ms/step - loss: 288.9783 - mae: 13.0415 - val_loss: 293.7571 - val_mae: 13.3434\n",
      "Epoch 6/10\n",
      "1527/1537 [============================>.] - ETA: 0s - loss: 288.0065 - mae: 13.0282"
     ]
    },
    {
     "name": "stderr",
     "output_type": "stream",
     "text": [
      "\n",
      "KeyboardInterrupt\n",
      "\n"
     ]
    }
   ],
   "source": [
    "# Train the model\n",
    "model.fit(X_train, y_train, epochs=10, validation_data=(X_test, y_test))"
   ]
  },
  {
   "cell_type": "code",
   "execution_count": null,
   "metadata": {},
   "outputs": [],
   "source": []
  },
  {
   "cell_type": "markdown",
   "metadata": {},
   "source": [
    "## **5. Understanding the Impact of L1 & L2 Regularization**"
   ]
  },
  {
   "cell_type": "markdown",
   "metadata": {},
   "source": [
    "### **Display Regularized Weights**\n",
    "#### Regularization affects the weight distribution, pushing unnecessary weights toward zero and reducing complexity."
   ]
  },
  {
   "cell_type": "code",
   "execution_count": 6,
   "metadata": {
    "scrolled": true
   },
   "outputs": [
    {
     "name": "stdout",
     "output_type": "stream",
     "text": [
      "Layer: dense, Regularized Weights: [[ 2.6534125e-01 -8.9725040e-02  2.4005839e-01 ...  2.0359300e-01\n",
      "   1.1534183e-01  1.4038186e-04]\n",
      " [ 2.8669194e-05  1.6920592e-01  1.5567750e-01 ... -2.0224988e-03\n",
      "   6.0236704e-02 -7.6438220e-05]\n",
      " [-8.7607699e-03  2.3401415e-01  8.4443986e-03 ...  6.7540286e-03\n",
      "  -8.4244553e-03 -2.4936235e-04]\n",
      " ...\n",
      " [-8.9310497e-02  3.4388795e-02 -1.7660523e-03 ... -1.6467180e-03\n",
      "  -1.1729769e-02  6.7379326e-05]\n",
      " [-1.9556428e-03  2.0708694e-01 -7.3959224e-02 ... -1.5202112e-03\n",
      "   4.1488517e-02  1.1811633e-05]\n",
      " [ 1.0306787e-01  9.4210431e-03  4.5820627e-02 ...  2.1488130e-01\n",
      "   3.9813425e-02 -8.9350542e-05]]\n",
      "Layer: dense_1, Regularized Weights: [[-1.32886023e-04  6.62027451e-05  1.93611195e-04 ... -1.63746634e-04\n",
      "   1.04286559e-01 -6.70497830e-05]\n",
      " [ 8.93651159e-05  6.52805029e-05 -2.26877382e-05 ...  1.30410306e-04\n",
      "  -1.63893133e-01  6.85183622e-05]\n",
      " [-2.20787333e-05 -2.58535147e-04 -1.92444990e-04 ...  8.91861200e-05\n",
      "   1.85155310e-04  7.42166376e-05]\n",
      " ...\n",
      " [ 1.30492350e-04 -5.95096208e-05 -4.93931402e-05 ... -1.46604914e-04\n",
      "   1.10051304e-01  4.75634122e-04]\n",
      " [ 3.14484467e-04  1.31094333e-04  2.85829825e-04 ... -1.31101231e-04\n",
      "   5.09412177e-02  2.17983223e-04]\n",
      " [-6.73650793e-05 -1.14112605e-04 -7.65475925e-05 ... -1.25907332e-04\n",
      "  -1.96178080e-04  2.17999244e-04]]\n",
      "Layer: dense_2, Regularized Weights: [[-0.12523475]\n",
      " [-0.03637557]\n",
      " [-0.1268533 ]\n",
      " [-0.14979438]\n",
      " [-0.24080569]\n",
      " [ 0.44495806]\n",
      " [ 0.2800939 ]\n",
      " [-0.23412205]\n",
      " [ 0.51791275]\n",
      " [ 0.43717542]\n",
      " [-0.28189325]\n",
      " [-0.26592478]\n",
      " [ 0.36984998]\n",
      " [ 0.5205706 ]\n",
      " [ 0.28861374]\n",
      " [-0.0044006 ]\n",
      " [ 0.37881884]\n",
      " [-0.03419864]\n",
      " [ 0.46251845]\n",
      " [-0.26374102]\n",
      " [-0.27092743]\n",
      " [-0.17458162]\n",
      " [-0.28630772]\n",
      " [ 0.49749485]\n",
      " [-0.17403582]\n",
      " [ 0.39801016]\n",
      " [-0.24777846]\n",
      " [-0.02271037]\n",
      " [-0.02301165]\n",
      " [-0.22738254]\n",
      " [-0.22607158]\n",
      " [-0.24194688]\n",
      " [ 0.27989012]\n",
      " [ 0.37300482]\n",
      " [ 0.3661252 ]\n",
      " [-0.01469372]\n",
      " [ 0.29825917]\n",
      " [ 0.26400003]\n",
      " [ 0.29552823]\n",
      " [-0.06484974]\n",
      " [-0.03623842]\n",
      " [ 0.4011782 ]\n",
      " [ 0.42609152]\n",
      " [ 0.2292529 ]\n",
      " [ 0.35384282]\n",
      " [ 0.31949314]\n",
      " [-0.24165829]\n",
      " [-0.49572957]\n",
      " [-0.23119566]\n",
      " [ 0.32384592]\n",
      " [-0.2602102 ]\n",
      " [-0.4117551 ]\n",
      " [-0.14851265]\n",
      " [-0.29700813]\n",
      " [ 0.27622277]\n",
      " [ 0.13246545]\n",
      " [-0.0422934 ]\n",
      " [-0.24937758]\n",
      " [-0.15634418]\n",
      " [-0.24986948]\n",
      " [-0.01904482]\n",
      " [-0.0129937 ]\n",
      " [ 0.24332947]\n",
      " [-0.20770678]]\n"
     ]
    }
   ],
   "source": [
    "for layer in model.layers:\n",
    "    if hasattr(layer, 'kernel'):\n",
    "        print(f'Layer: {layer.name}, Regularized Weights: {layer.kernel.numpy()}')"
   ]
  },
  {
   "cell_type": "markdown",
   "metadata": {},
   "source": [
    "### **Compare Model Performance**\n",
    "#### We evaluate the model on the test set to understand how well it generalizes."
   ]
  },
  {
   "cell_type": "code",
   "execution_count": 7,
   "metadata": {},
   "outputs": [
    {
     "name": "stdout",
     "output_type": "stream",
     "text": [
      "385/385 [==============================] - 1s 1ms/step - loss: 281.4148 - mae: 12.7994\n",
      "Test Loss: 281.414794921875, Test MAE: 12.799354553222656\n"
     ]
    }
   ],
   "source": [
    "loss, mae = model.evaluate(X_test, y_test)\n",
    "print(f'Test Loss: {loss}, Test MAE: {mae}')"
   ]
  },
  {
   "cell_type": "code",
   "execution_count": null,
   "metadata": {},
   "outputs": [],
   "source": []
  },
  {
   "cell_type": "markdown",
   "metadata": {},
   "source": [
    "## **6. Visualizing Regularization Effects**"
   ]
  },
  {
   "cell_type": "markdown",
   "metadata": {},
   "source": [
    "### **Plot Weight Distribution**\n",
    "#### A well-regularized model has weights that are neither too large nor too small.\n",
    "#### The following histogram visualizes weight distribution."
   ]
  },
  {
   "cell_type": "code",
   "execution_count": 8,
   "metadata": {},
   "outputs": [
    {
     "data": {
      "image/png": "[encoded data removed]",
      "text/plain": [
       "<Figure size 640x480 with 1 Axes>"
      ]
     },
     "metadata": {},
     "output_type": "display_data"
    }
   ],
   "source": [
    "weights = model.layers[1].get_weights()[0].flatten()\n",
    "plt.hist(weights, bins=50)\n",
    "plt.title('Weight Distribution with Built-in L1 & L2 Regularization')\n",
    "plt.xlabel('Weight Values')\n",
    "plt.ylabel('Frequency')\n",
    "plt.show()"
   ]
  },
  {
   "cell_type": "code",
   "execution_count": null,
   "metadata": {},
   "outputs": [],
   "source": []
  },
  {
   "cell_type": "markdown",
   "metadata": {},
   "source": [
    "#### **L1 Regularization**: Encourages sparsity, useful for feature selection.\n",
    "\n",
    "#### **L2 Regularization**: Prevents large weights, leading to more stable models.\n",
    "\n",
    "#### **Using Functional API**: Provides flexibility and modularity in model design."
   ]
  }
 ],
 "metadata": {
  "kernelspec": {
   "display_name": "Python 3 (ipykernel)",
   "language": "python",
   "name": "python3"
  },
  "language_info": {
   "codemirror_mode": {
    "name": "ipython",
    "version": 3
   },
   "file_extension": ".py",
   "mimetype": "text/x-python",
   "name": "python",
   "nbconvert_exporter": "python",
   "pygments_lexer": "ipython3",
   "version": "3.9.18"
  }
 },
 "nbformat": 4,
 "nbformat_minor": 4
}
