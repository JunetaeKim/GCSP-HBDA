{
 "cells": [
  {
   "cell_type": "markdown",
   "metadata": {},
   "source": [
    "https://colab.research.google.com/github/JunetaeKim/GCSP-HBDA/blob/main/Week7/FunctionalAPI_l1l2.ipynb"
   ]
  },
  {
   "cell_type": "markdown",
   "metadata": {},
   "source": [
    "# TensorFlow DNN Tutorial - Jupyter Notebook Version\n",
    "\n",
    "## **Introduction to Deep Learning with TensorFlow**\n",
    "\n",
    "This provides a tutorial on implementing deep neural networks (DNN) using TensorFlow. \n",
    "It focuses on applying L1 and L2 regularization using TensorFlow's built-in functions for efficiency and using the Functional API.\n",
    "\n",
    "Deep learning models tend to overfit, meaning they memorize the training data rather than generalizing well to unseen data. Regularization techniques such as L1 (Lasso) and L2 (Ridge) help improve generalization by constraining the model's parameters. \n",
    "\n",
    "In this tutorial, we will explore how to apply these techniques efficiently using TensorFlow's Functional API."
   ]
  },
  {
   "cell_type": "markdown",
   "metadata": {},
   "source": [
    "## **1. Setting Up TensorFlow**"
   ]
  },
  {
   "cell_type": "code",
   "execution_count": 1,
   "metadata": {},
   "outputs": [],
   "source": [
    "#!pip install tensorflow numpy matplotlib scikit-learn\n",
    "import tensorflow as tf\n",
    "import numpy as np\n",
    "import matplotlib.pyplot as plt\n",
    "from sklearn.model_selection import train_test_split"
   ]
  },
  {
   "cell_type": "code",
   "execution_count": 2,
   "metadata": {},
   "outputs": [
    {
     "name": "stdout",
     "output_type": "stream",
     "text": [
      "2.10.0\n"
     ]
    }
   ],
   "source": [
    "print(tf.__version__)"
   ]
  },
  {
   "cell_type": "markdown",
   "metadata": {},
   "source": [
    "## **2. Creating a Toy Dataset**\n",
    "#### A synthetic dataset is useful for understanding how L1 and L2 regularization impact model training. \n",
    "#### We generate random feature vectors and corresponding labels."
   ]
  },
  {
   "cell_type": "code",
   "execution_count": 3,
   "metadata": {},
   "outputs": [],
   "source": [
    "# Generate sample data\n",
    "X = np.random.rand(1000, 10)\n",
    "y = np.random.randint(0, 2, size=(1000,))\n",
    "\n",
    "# Split dataset\n",
    "X_train, X_test, y_train, y_test = train_test_split(X, y, test_size=0.2, random_state=42)"
   ]
  },
  {
   "cell_type": "markdown",
   "metadata": {},
   "source": [
    "## **3. Implementing L1 & L2 Regularization with Functional API**"
   ]
  },
  {
   "cell_type": "markdown",
   "metadata": {},
   "source": [
    "### **Define a Functional API Model with Built-in L1/L2 Regularization**\n",
    "\n",
    "TensorFlow provides built-in regularization functions (tf.keras.regularizers.l1_l2) to efficiently apply L1 and L2 constraints."
   ]
  },
  {
   "cell_type": "code",
   "execution_count": 4,
   "metadata": {},
   "outputs": [],
   "source": [
    "from tensorflow.keras import Model, Input\n",
    "from tensorflow.keras.layers import Dense\n",
    "from tensorflow.keras.regularizers import l1_l2\n",
    "\n",
    "# Define input layer\n",
    "inputs = Input(shape=(10,))\n",
    "\n",
    "# Hidden layers with built-in L1/L2 regularization\n",
    "x = Dense(128, activation='relu', kernel_regularizer=l1_l2(l1=0.01, l2=0.01))(inputs)\n",
    "x = Dense(64, activation='relu', kernel_regularizer=l1_l2(l1=0.01, l2=0.01))(x)\n",
    "\n",
    "# Output layer\n",
    "outputs = Dense(10, activation='softmax')(x)\n",
    "\n",
    "# Define model\n",
    "model = Model(inputs=inputs, outputs=outputs)\n",
    "\n",
    "# Compile the model\n",
    "model.compile(optimizer='adam', loss='sparse_categorical_crossentropy', metrics=['accuracy'])"
   ]
  },
  {
   "cell_type": "markdown",
   "metadata": {},
   "source": [
    "## **4.Training the Model**"
   ]
  },
  {
   "cell_type": "markdown",
   "metadata": {},
   "source": [
    "### **Train Using Standard Training Loop**"
   ]
  },
  {
   "cell_type": "code",
   "execution_count": null,
   "metadata": {
    "scrolled": true
   },
   "outputs": [],
   "source": [
    "# Train the model\n",
    "model.fit(X_train, y_train, epochs=10, validation_data=(X_test, y_test))"
   ]
  },
  {
   "cell_type": "code",
   "execution_count": null,
   "metadata": {},
   "outputs": [],
   "source": []
  },
  {
   "cell_type": "markdown",
   "metadata": {},
   "source": [
    "## **5. Understanding the Impact of L1 & L2 Regularization**"
   ]
  },
  {
   "cell_type": "markdown",
   "metadata": {},
   "source": [
    "### **Display Regularized Weights**\n",
    "#### Regularization affects the weight distribution, pushing unnecessary weights toward zero and reducing complexity."
   ]
  },
  {
   "cell_type": "code",
   "execution_count": 6,
   "metadata": {
    "scrolled": true
   },
   "outputs": [
    {
     "name": "stdout",
     "output_type": "stream",
     "text": [
      "Layer: dense, Regularized Weights: [[-9.6805023e-05 -4.1457861e-06 -1.6241278e-04 ... -6.5958273e-05\n",
      "   6.6000597e-05  1.5657971e-02]\n",
      " [-1.9202862e-04 -4.7126417e-05  1.3141337e-04 ... -2.6746839e-04\n",
      "   5.6009629e-04 -3.5574200e-04]\n",
      " [ 1.5943479e-05 -4.6570145e-05  6.2954918e-05 ... -3.7009851e-04\n",
      "  -4.6344423e-05 -9.5286639e-03]\n",
      " ...\n",
      " [ 6.8847919e-05 -3.3190456e-04  2.3085016e-04 ... -2.6179769e-05\n",
      "   9.9557790e-04  7.4359668e-05]\n",
      " [-3.6538659e-05 -1.3037655e-04  1.1692044e-04 ... -1.2472185e-05\n",
      "   1.8578240e-04 -9.4135299e-05]\n",
      " [-2.7267088e-06 -1.5672437e-04 -2.0079986e-04 ...  1.3546739e-04\n",
      "  -2.1210448e-04  1.6270520e-02]]\n",
      "Layer: dense_1, Regularized Weights: [[-1.24788159e-04  2.15556447e-05  1.80213319e-04 ... -2.09266218e-04\n",
      "   5.97969993e-05 -1.25475854e-05]\n",
      " [-2.18222121e-05  2.38440654e-04 -9.29198141e-05 ...  1.72622385e-05\n",
      "  -1.13181595e-04 -3.68158217e-05]\n",
      " [-1.04165745e-04  5.02497896e-05  4.78574802e-05 ... -7.26301660e-05\n",
      "  -1.07615073e-04  1.53244182e-04]\n",
      " ...\n",
      " [ 8.87555143e-05 -1.24997860e-05 -2.79735337e-04 ...  2.62056928e-05\n",
      "   1.90541643e-04 -9.36065771e-06]\n",
      " [ 5.17611843e-05 -2.11416045e-06  1.44268706e-05 ...  7.37763112e-05\n",
      "   5.64962102e-05 -5.84206646e-05]\n",
      " [ 1.74904693e-04  9.61356127e-05 -4.04060120e-06 ... -1.14638424e-04\n",
      "   3.67460525e-05 -9.80508194e-05]]\n",
      "Layer: dense_2, Regularized Weights: [[ 3.78110111e-01  2.40978554e-01 -1.79152712e-01  6.99580461e-02\n",
      "   8.81317854e-02 -1.09233551e-01 -4.45794553e-01  2.37023626e-02\n",
      "  -5.41630983e-02 -8.50694776e-02]\n",
      " [ 1.09384924e-01  1.79261133e-01 -2.53878951e-01 -2.95034230e-01\n",
      "  -5.09397507e-01 -1.25343511e-02 -2.63302356e-01 -4.83702064e-01\n",
      "  -3.45599443e-01 -5.10489404e-01]\n",
      " [ 2.92432867e-03 -1.55861229e-02 -3.08801770e-01 -1.60120100e-01\n",
      "   1.51482329e-01 -2.15900749e-01  2.50497833e-03 -1.44347504e-01\n",
      "  -1.10134080e-01 -2.95714550e-02]\n",
      " [ 1.21979542e-01  2.41065651e-01  1.81098893e-01  1.52701452e-01\n",
      "  -3.17546725e-01  5.18624857e-02 -7.70316720e-02 -8.65331814e-02\n",
      "   1.40347615e-01 -2.48359293e-02]\n",
      " [ 1.62603542e-01 -5.94370887e-02  8.46409351e-02 -2.96597481e-01\n",
      "   1.46376563e-03 -1.98809400e-01 -2.14102417e-02  2.19550774e-01\n",
      "   9.43921134e-02  7.54253492e-02]\n",
      " [ 1.25150129e-01 -2.24768713e-01 -3.05900127e-01 -1.24483049e-01\n",
      "   1.75815448e-01 -1.84010565e-01 -2.84244478e-01  2.33293056e-01\n",
      "   1.45482391e-01  4.83551063e-02]\n",
      " [-1.21669278e-01  2.83684909e-01 -1.69133291e-01 -2.40244925e-01\n",
      "   1.10530302e-01 -1.66572332e-02 -4.33286399e-01  8.38613585e-02\n",
      "  -3.21632475e-01 -3.43970299e-01]\n",
      " [-1.88345134e-01  2.38898899e-02  5.73247187e-02 -1.65917888e-01\n",
      "   1.11388661e-01 -3.49238843e-01  1.99457124e-01 -3.09518367e-01\n",
      "  -5.26664294e-02  5.77459969e-02]\n",
      " [ 7.47127682e-02  2.35184982e-01 -3.54379207e-01 -1.67579055e-01\n",
      "  -2.07889333e-01 -3.14216688e-02 -3.24499995e-01  1.06929742e-01\n",
      "   1.17025696e-01 -2.84864277e-01]\n",
      " [-1.12197980e-01 -7.55916908e-02 -4.17819843e-02 -1.14715025e-01\n",
      "  -3.19980942e-02  8.66804495e-02  2.09761754e-01  1.11489080e-01\n",
      "   1.83395877e-01 -1.90797806e-01]\n",
      " [ 1.60133377e-01  2.14401513e-01 -2.50459999e-01 -3.47980082e-01\n",
      "  -6.91745579e-02  1.60061698e-02 -2.84615308e-01 -2.30001181e-01\n",
      "   9.55221653e-02 -3.81013870e-01]\n",
      " [-2.41231054e-01  8.40646494e-03 -2.60298401e-01 -1.39536625e-02\n",
      "  -1.74033597e-01  5.87247387e-02  2.17008784e-01 -8.33214521e-02\n",
      "  -1.94416553e-01  2.46132031e-01]\n",
      " [ 3.48391801e-01  2.72965372e-01 -3.12211603e-01 -7.72281885e-02\n",
      "   1.24041423e-01 -4.07987624e-01 -3.44543010e-01 -3.33106637e-01\n",
      "  -2.93167025e-01 -3.57254505e-01]\n",
      " [ 1.72323555e-01  3.43209386e-01 -2.82185286e-01 -8.07262138e-02\n",
      "  -1.15961589e-01  2.48913057e-02 -3.58086824e-01  1.25762105e-01\n",
      "  -2.85911679e-01  5.32841161e-02]\n",
      " [ 2.48872176e-01  3.13906342e-01 -7.49472007e-02 -9.17920843e-02\n",
      "  -3.49239647e-01 -3.79222751e-01 -5.41295111e-02 -2.75476158e-01\n",
      "   5.31724505e-02 -2.04542026e-01]\n",
      " [-1.07718393e-01  5.02155572e-02  7.66776800e-02  2.13315085e-01\n",
      "  -4.65138741e-02  5.59896789e-02 -2.53091957e-02 -2.82253861e-01\n",
      "   2.03674167e-01 -2.32709289e-01]\n",
      " [ 3.54874581e-01  2.47224435e-01 -3.45083773e-01 -1.97783723e-01\n",
      "  -3.30554634e-01  8.78982153e-03 -1.24268368e-01  5.31787127e-02\n",
      "  -8.86358693e-02 -1.05827726e-01]\n",
      " [ 2.12969761e-02  3.61954123e-01 -4.57952559e-01 -9.12217423e-02\n",
      "  -3.84180516e-01 -1.76271405e-02 -3.86682361e-01 -2.15722248e-01\n",
      "  -2.05924928e-01 -3.23270768e-01]\n",
      " [-1.02318369e-01 -7.39458501e-02 -8.40850323e-02 -2.77403742e-01\n",
      "   9.59477872e-02  5.98415285e-02  1.04208708e-01  1.77538380e-01\n",
      "  -1.14975527e-01 -2.25360245e-01]\n",
      " [ 3.38329762e-01 -5.63917011e-02  2.22071126e-01 -8.99478197e-02\n",
      "  -6.18078113e-02  7.34137893e-02 -7.66418576e-02  1.52130961e-01\n",
      "  -1.87353477e-01 -2.73059607e-01]\n",
      " [-1.76079810e-01 -3.16415797e-03  8.94391090e-02 -1.76081851e-01\n",
      "  -1.50672542e-02  2.35731989e-01 -3.10299844e-01 -1.59143716e-01\n",
      "   7.27673918e-02  1.82884391e-02]\n",
      " [-1.88743860e-01  5.82410134e-02 -2.21020117e-01 -2.06892312e-01\n",
      "   7.09647015e-02 -2.83963293e-01  9.20440182e-02 -1.37213379e-01\n",
      "   1.25887528e-01  9.91728306e-02]\n",
      " [-1.85760662e-01  1.72630772e-01 -7.30964029e-03 -2.36251697e-01\n",
      "   4.25173639e-04 -3.69487703e-01 -2.48517141e-01 -1.06647745e-01\n",
      "   1.00956470e-01  1.51223652e-02]\n",
      " [ 8.27956274e-02  1.27199069e-01 -3.87037009e-01  9.80591327e-02\n",
      "  -2.34359443e-01 -2.41489798e-01 -9.29170400e-02  1.08250275e-01\n",
      "   1.34131387e-01 -3.85141045e-01]\n",
      " [ 6.48202747e-02  3.32465023e-01  9.47999433e-02  2.02876143e-02\n",
      "  -4.98143323e-02 -3.76088113e-01  5.72306849e-02  1.51677534e-01\n",
      "   1.37486950e-01 -1.58139005e-01]\n",
      " [ 1.59113646e-01  2.06244230e-01 -2.95353979e-01 -3.72298092e-01\n",
      "  -8.99966061e-02 -7.63674453e-02 -1.11033386e-02 -4.23127860e-02\n",
      "   1.44381858e-02 -9.27656293e-02]\n",
      " [ 2.60219961e-01 -1.84000552e-01  1.04016349e-01 -2.51066196e-03\n",
      "   5.72813936e-02  1.71492830e-01 -6.96326122e-02  6.66637048e-02\n",
      "   1.03298493e-01  2.39911899e-01]\n",
      " [-1.83642268e-01  1.46353602e-01 -1.87987864e-01 -2.11127892e-01\n",
      "  -3.59402388e-01 -2.57042766e-01 -3.66581589e-01 -3.10805649e-01\n",
      "   1.80107310e-01 -1.39389345e-02]\n",
      " [-2.35066116e-01  1.18466161e-01 -9.90328193e-02 -3.07232179e-02\n",
      "  -1.70798630e-01  1.33778945e-01 -2.89239138e-01 -2.79835742e-02\n",
      "   2.18018204e-01  1.68137848e-01]\n",
      " [ 1.39298826e-01 -3.94369252e-02 -1.62331194e-01 -3.13118905e-01\n",
      "  -4.18348700e-01 -1.51179165e-01 -4.18827206e-01 -3.60383362e-01\n",
      "  -4.58303958e-01 -2.36111850e-01]\n",
      " [-1.90578520e-01  9.46549103e-02  5.82247414e-02  5.68458214e-02\n",
      "  -3.64223808e-01  1.63228318e-01  3.80048715e-02 -1.86596259e-01\n",
      "  -3.26680392e-01 -3.49423438e-01]\n",
      " [ 5.73343039e-02 -3.00391149e-02 -1.76226705e-01  1.35242962e-03\n",
      "  -3.40019017e-01  5.13725020e-02  1.88222036e-01  2.41314340e-02\n",
      "   1.66809455e-01 -5.84388822e-02]\n",
      " [ 3.65971178e-01  1.90482184e-01 -1.39134645e-01 -3.70189220e-01\n",
      "  -1.52485430e-01 -1.75732970e-01 -1.48839012e-01 -1.99240476e-01\n",
      "  -1.71611428e-01 -3.25665504e-01]\n",
      " [ 2.54549593e-01  9.97716412e-02 -3.18981290e-01 -7.77676925e-02\n",
      "   1.75025351e-02  1.32454291e-01 -4.05081838e-01 -3.59422266e-01\n",
      "  -1.86244084e-03 -5.89265525e-02]\n",
      " [-8.59368071e-02 -8.83083194e-02  1.44794220e-02 -1.00587584e-01\n",
      "  -1.29805312e-01 -3.20712268e-01 -1.19546838e-02 -7.08185229e-03\n",
      "  -2.16852397e-01  1.29767889e-02]\n",
      " [ 9.79361385e-02 -4.72319871e-02 -2.57914066e-01  6.54003918e-02\n",
      "  -3.89399141e-01 -3.72832000e-01 -2.42449090e-01 -3.46890718e-01\n",
      "  -4.84677367e-02 -1.61267057e-01]\n",
      " [-1.68396488e-01 -2.13585824e-01 -1.90216243e-01 -8.96649957e-02\n",
      "  -2.09111795e-02 -2.80217469e-01 -2.60947049e-01  2.04266667e-01\n",
      "  -9.61333513e-02 -2.93313209e-02]\n",
      " [ 1.16168298e-01  1.03439778e-01 -1.75101891e-01 -4.20249432e-01\n",
      "  -3.06822956e-01  1.92465801e-02 -3.16181302e-01 -5.44688821e-01\n",
      "  -4.14620936e-01 -9.75577086e-02]\n",
      " [ 1.80173814e-01  6.23807982e-02 -3.16624641e-01 -4.77078222e-02\n",
      "  -1.40878305e-01  1.22915432e-01 -7.53956009e-03  4.47819419e-02\n",
      "  -2.57113576e-02 -1.58166125e-01]\n",
      " [ 5.82327545e-02  3.56808007e-01 -3.46473120e-02 -4.17474121e-01\n",
      "  -1.77251343e-02 -3.05317551e-01  2.37865169e-02  8.28757957e-02\n",
      "  -3.11695546e-01  3.97623405e-02]\n",
      " [ 3.02771658e-01 -1.46357924e-01  9.50116143e-02 -3.14164966e-01\n",
      "   1.78187843e-02 -1.54314622e-01  9.39883385e-03 -4.66748737e-02\n",
      "   3.42420600e-02 -1.46627724e-01]\n",
      " [-2.24241614e-01 -1.74050748e-01 -2.89025098e-01  1.23536803e-01\n",
      "  -2.98885852e-01  1.33297831e-01  2.36460790e-02 -2.07928628e-01\n",
      "  -2.31711846e-02  1.82170615e-01]\n",
      " [ 1.59781873e-01  2.80039102e-01 -2.23577246e-01 -2.89379627e-01\n",
      "   8.90654176e-02 -3.58198583e-01  1.01731159e-01  1.33674949e-01\n",
      "  -1.30946621e-01 -3.08141947e-01]\n",
      " [-1.44301087e-01  1.36713818e-01  2.24990219e-01  7.22253546e-02\n",
      "   1.21017069e-01  9.26388800e-02  1.70741543e-01  2.54849315e-01\n",
      "  -2.52989829e-01 -1.56844676e-01]\n",
      " [ 3.33171844e-01 -3.84836644e-02 -2.39872247e-01 -2.80831642e-02\n",
      "  -3.71716321e-01 -7.68195912e-02 -2.63744056e-01 -2.54497796e-01\n",
      "  -3.48836154e-01 -1.50972277e-01]\n",
      " [-1.81050196e-01 -1.14682533e-01  1.21960053e-02  1.20757066e-01\n",
      "  -2.94973671e-01  1.59183189e-01 -7.09642768e-02  1.69790953e-01\n",
      "  -2.45215520e-01  1.28498688e-01]\n",
      " [ 3.26942921e-01 -7.78164566e-02 -4.21449274e-01 -3.94301385e-01\n",
      "  -4.69734907e-01 -8.76267776e-02 -3.29426825e-01 -2.39295617e-01\n",
      "  -4.29270297e-01 -7.10378736e-02]\n",
      " [-1.90595806e-01  2.82746375e-01  9.35515836e-02 -3.05458635e-01\n",
      "   1.47569448e-01  1.84796229e-01  1.30598873e-01 -1.55407771e-01\n",
      "   3.65348049e-02  1.51334824e-02]\n",
      " [ 1.08646505e-01 -1.70348778e-01  2.28108421e-01 -2.10884809e-01\n",
      "  -3.46014589e-01 -1.94878519e-01 -5.86182252e-02 -2.77079284e-01\n",
      "   1.24780290e-01 -2.51621068e-01]\n",
      " [-2.05674767e-01 -1.46236837e-01  1.38770759e-01  1.46591455e-01\n",
      "  -1.13362826e-01 -2.73651540e-01  8.46578479e-02 -2.95838833e-01\n",
      "   2.05458194e-01  1.72575384e-01]\n",
      " [-2.09873646e-01 -1.95235237e-01  1.13731019e-01  1.88273862e-01\n",
      "   2.32822075e-01  5.15529290e-02 -3.58907953e-02  5.58434799e-02\n",
      "   2.24213973e-01 -2.58444965e-01]\n",
      " [ 1.17519729e-01  1.60933033e-01 -3.55582625e-01 -3.69729161e-01\n",
      "  -4.42520440e-01 -3.71739328e-01 -2.90851086e-01  4.63738665e-02\n",
      "  -1.05384193e-01 -2.84520417e-01]\n",
      " [-2.08221614e-01 -1.00346014e-01  4.02545650e-03 -4.42379750e-02\n",
      "  -2.93633848e-01 -1.94236279e-01 -8.71288553e-02  1.36658967e-01\n",
      "   2.27073640e-01  1.31620811e-02]\n",
      " [ 1.25275105e-01 -1.85711533e-01 -1.57361075e-01 -6.61203191e-02\n",
      "  -3.29653949e-01  1.54236361e-01 -2.19734877e-01 -2.52022862e-01\n",
      "  -3.28656286e-01  1.93085387e-01]\n",
      " [-7.37001225e-02  3.47083092e-01 -3.57350707e-01 -2.21204758e-01\n",
      "  -2.03648657e-01  1.19766183e-01 -3.65851879e-01 -3.52783620e-01\n",
      "  -3.72842938e-01 -2.81359792e-01]\n",
      " [ 1.89240038e-01  1.58879325e-01 -2.71440208e-01 -2.86633253e-01\n",
      "  -4.62197959e-01 -4.91066962e-01 -3.34332287e-01 -3.42239529e-01\n",
      "  -5.52191138e-01 -2.95762360e-01]\n",
      " [ 2.45299011e-01  7.94131458e-02 -7.35633448e-02 -2.57001549e-01\n",
      "  -9.21387300e-02 -3.87608260e-01 -1.57349482e-01 -1.57199740e-01\n",
      "   1.33615941e-01 -2.13005230e-01]\n",
      " [ 2.70873964e-01  2.94565827e-01 -5.85691512e-01 -4.32875603e-01\n",
      "  -4.42480177e-01 -3.03971648e-01 -2.56058484e-01 -5.24594009e-01\n",
      "  -1.76763415e-01 -9.80333835e-02]\n",
      " [-2.62801319e-01  5.40725589e-02 -1.95671305e-01  1.31954029e-01\n",
      "   1.91298887e-01 -7.97565188e-03 -2.39812694e-02 -3.02681267e-01\n",
      "  -3.34857330e-02  2.01240659e-01]\n",
      " [ 1.95064723e-01  1.61908135e-01 -3.12037945e-01 -4.26934481e-01\n",
      "  -4.54654694e-01 -3.61324936e-01 -4.70147580e-01 -5.36433518e-01\n",
      "  -2.88888693e-01 -2.34771743e-01]\n",
      " [ 2.40892559e-01 -8.00241008e-02 -2.35236734e-02 -6.38893321e-02\n",
      "   2.10606098e-01 -1.28632993e-01  1.52461752e-01  9.27797705e-02\n",
      "   1.07520379e-01  1.91008657e-01]\n",
      " [-2.22920746e-01 -1.93900093e-01 -1.49356902e-01 -5.90610988e-02\n",
      "  -1.06967524e-01 -1.76484123e-01 -1.24110788e-01  1.81937173e-01\n",
      "   2.16931850e-01 -1.31221414e-01]\n",
      " [-9.76224709e-03  1.76399909e-02  3.88587713e-02 -9.39970240e-02\n",
      "  -1.86758041e-01 -2.60572523e-01 -2.01691687e-01 -1.06893368e-01\n",
      "  -1.39313310e-01 -3.05841625e-01]\n",
      " [ 3.72379512e-01  3.54430348e-01 -5.37955582e-01 -1.02005765e-01\n",
      "   3.69302109e-02 -3.64193618e-01 -1.82610359e-02 -1.48514077e-01\n",
      "  -3.44888061e-01 -1.94021851e-01]]\n"
     ]
    }
   ],
   "source": [
    "for layer in model.layers:\n",
    "    if hasattr(layer, 'kernel'):\n",
    "        print(f'Layer: {layer.name}, Regularized Weights: {layer.kernel.numpy()}')"
   ]
  },
  {
   "cell_type": "markdown",
   "metadata": {},
   "source": [
    "### **Compare Model Performance**\n",
    "#### We evaluate the model on the test set to understand how well it generalizes."
   ]
  },
  {
   "cell_type": "code",
   "execution_count": 7,
   "metadata": {},
   "outputs": [
    {
     "name": "stdout",
     "output_type": "stream",
     "text": [
      "7/7 [==============================] - 0s 2ms/step - loss: 0.9860 - accuracy: 0.5350\n",
      "Test Loss: 0.9860317707061768, Test Accuracy: 0.5350000262260437\n"
     ]
    }
   ],
   "source": [
    "loss, accuracy = model.evaluate(X_test, y_test)\n",
    "print(f'Test Loss: {loss}, Test Accuracy: {accuracy}')"
   ]
  },
  {
   "cell_type": "code",
   "execution_count": null,
   "metadata": {},
   "outputs": [],
   "source": []
  },
  {
   "cell_type": "markdown",
   "metadata": {},
   "source": [
    "## **6. Visualizing Regularization Effects**"
   ]
  },
  {
   "cell_type": "markdown",
   "metadata": {},
   "source": [
    "### **Plot Weight Distribution**\n",
    "#### A well-regularized model has weights that are neither too large nor too small.\n",
    "#### The following histogram visualizes weight distribution."
   ]
  },
  {
   "cell_type": "code",
   "execution_count": 8,
   "metadata": {},
   "outputs": [
    {
     "data": {
      "image/png": "[encoded data removed]",
      "text/plain": [
       "<Figure size 640x480 with 1 Axes>"
      ]
     },
     "metadata": {},
     "output_type": "display_data"
    }
   ],
   "source": [
    "weights = model.layers[1].get_weights()[0].flatten()\n",
    "plt.hist(weights, bins=50)\n",
    "plt.title('Weight Distribution with Manual L1 & L2 Regularization')\n",
    "plt.xlabel('Weight Values')\n",
    "plt.ylabel('Frequency')\n",
    "plt.show()"
   ]
  },
  {
   "cell_type": "code",
   "execution_count": null,
   "metadata": {},
   "outputs": [],
   "source": []
  },
  {
   "cell_type": "markdown",
   "metadata": {},
   "source": [
    "## **7. Key Takeaways and Best Practices**"
   ]
  },
  {
   "cell_type": "markdown",
   "metadata": {},
   "source": [
    "#### **L1 Regularization**: Encourages sparsity, useful for feature selection.\n",
    "\n",
    "#### **L2 Regularization**: Prevents large weights, leading to more stable models.\n",
    "\n",
    "#### **Using Functional API**: Provides flexibility and modularity in model design."
   ]
  }
 ],
 "metadata": {
  "kernelspec": {
   "display_name": "Python 3 (ipykernel)",
   "language": "python",
   "name": "python3"
  },
  "language_info": {
   "codemirror_mode": {
    "name": "ipython",
    "version": 3
   },
   "file_extension": ".py",
   "mimetype": "text/x-python",
   "name": "python",
   "nbconvert_exporter": "python",
   "pygments_lexer": "ipython3",
   "version": "3.9.18"
  }
 },
 "nbformat": 4,
 "nbformat_minor": 4
}
